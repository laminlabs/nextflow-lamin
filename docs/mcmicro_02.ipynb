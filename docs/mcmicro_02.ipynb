{
 "cells": [
  {
   "cell_type": "markdown",
   "id": "a1c40541-e05e-48a3-8b50-33baf3d6d0d4",
   "metadata": {},
   "source": [
    "# Nextflow"
   ]
  },
  {
   "cell_type": "markdown",
   "id": "cd12ac1a-73e6-44e2-a854-6fa5e52cfd41",
   "metadata": {},
   "source": [
    "[Nextflow](https://www.nextflow.io/) is a workflow management system used for executing scientific workflows across platforms scalably, portably, and reproducibly.\n",
    "\n",
    "Here, we'll run a demo of the microscopy pipeline [mcmicro](https://github.com/labsyspharm/mcmicro) to correct uneven illumination. [Reference](https://mcmicro.org/)\n"
   ]
  },
  {
   "cell_type": "markdown",
   "id": "8e7d3a5e",
   "metadata": {},
   "source": [
    "```{note}\n",
    "\n",
    "This notebook serves as a demo for Python scripting that you could run before and after Nextflow runs.\n",
    "\n",
    "Typically, you'd run the workflows from the command line or Nextflow Tower and register data from a Python script and not necessarily a notebook.\n",
    "```"
   ]
  },
  {
   "cell_type": "markdown",
   "id": "fe9ab200",
   "metadata": {},
   "source": [
    "## Setup"
   ]
  },
  {
   "cell_type": "markdown",
   "id": "b7c8e52d",
   "metadata": {},
   "source": [
    "Let's create a test instance:"
   ]
  },
  {
   "cell_type": "code",
   "execution_count": null,
   "id": "756e24d7-b2a0-4a10-bf6c-f532e0cc323b",
   "metadata": {
    "tags": [
     "hide-output"
    ]
   },
   "outputs": [],
   "source": [
    "!lamin load nextflow-mcmicro"
   ]
  },
  {
   "cell_type": "code",
   "execution_count": null,
   "id": "3358a50f",
   "metadata": {},
   "outputs": [],
   "source": [
    "import lamindb as ln\n",
    "from subprocess import getoutput"
   ]
  },
  {
   "cell_type": "markdown",
   "id": "ecb68cf2-1188-4f8b-a2ab-01c60d5779b8",
   "metadata": {},
   "source": [
    "## Track the Nextflow run"
   ]
  },
  {
   "cell_type": "markdown",
   "id": "3e1224fd",
   "metadata": {},
   "source": [
    "Track the Nextflow workflow & run:"
   ]
  },
  {
   "cell_type": "code",
   "execution_count": null,
   "id": "05a03bf4-81e5-45b4-a126-002def01f81a",
   "metadata": {},
   "outputs": [],
   "source": [
    "transform = ln.Transform(\n",
    "    name=\"mcmicro\",\n",
    "    version=\"1.0.0\",\n",
    "    type=\"pipeline\",\n",
    "    reference=\"https://github.com/labsyspharm/mcmicro\",\n",
    ")\n",
    "ln.track(transform)\n",
    "# grab the run of the global run context\n",
    "run = ln.dev.run_context.run"
   ]
  },
  {
   "cell_type": "markdown",
   "id": "670533a7",
   "metadata": {},
   "source": [
    "If we now stage input files, they'll be tracked as inputs for the global run:"
   ]
  },
  {
   "cell_type": "code",
   "execution_count": null,
   "id": "27294132",
   "metadata": {
    "tags": [
     "hide-output"
    ]
   },
   "outputs": [],
   "source": [
    "# we fetch example input files that are already stored in the instance\n",
    "mcmicro_input = ln.File.filter(key__startswith=\"exemplar-001\")\n",
    "input_paths = [input_fastq.stage() for input_fastq in mcmicro_input]"
   ]
  },
  {
   "cell_type": "markdown",
   "id": "17f9905e-0a34-4335-b0c4-eb9b598c8eaf",
   "metadata": {},
   "source": [
    "Run the nextflow pipeline:"
   ]
  },
  {
   "cell_type": "code",
   "execution_count": null,
   "id": "2219c55e",
   "metadata": {
    "tags": [
     "hide-output"
    ]
   },
   "outputs": [],
   "source": [
    "!nextflow run https://github.com/labsyspharm/mcmicro --in exemplar-001 --start-at illumination --stop-at registration -name \"lamin_{run.uid}\""
   ]
  },
  {
   "cell_type": "markdown",
   "id": "58eea7fc",
   "metadata": {},
   "source": [
    "Here, we passed the LaminDB run id to nextflow so that we can query it from within nextflow."
   ]
  },
  {
   "cell_type": "markdown",
   "id": "fb81c953",
   "metadata": {},
   "source": [
    "## Register outputs"
   ]
  },
  {
   "cell_type": "code",
   "execution_count": null,
   "id": "a24e86ed",
   "metadata": {},
   "outputs": [],
   "source": [
    "mcmicro_registered_File = ln.File(\"exemplar-001/registration/exemplar-001.ome.tif\")\n",
    "mcmicro_registered_File.save()"
   ]
  },
  {
   "cell_type": "markdown",
   "id": "429bf863",
   "metadata": {},
   "source": [
    "## Track Nextflow ID"
   ]
  },
  {
   "cell_type": "markdown",
   "id": "7afa797c",
   "metadata": {},
   "source": [
    "Let us look at the nextflow logs:"
   ]
  },
  {
   "cell_type": "code",
   "execution_count": null,
   "id": "11538f9b",
   "metadata": {
    "tags": []
   },
   "outputs": [],
   "source": [
    "!nextflow log"
   ]
  },
  {
   "cell_type": "markdown",
   "id": "36e4afc3",
   "metadata": {},
   "source": [
    "Let us add the information about the session ID to our `run` record:"
   ]
  },
  {
   "cell_type": "code",
   "execution_count": null,
   "id": "4c14e053",
   "metadata": {},
   "outputs": [],
   "source": [
    "nextflow_id = getoutput(f\"nextflow log | awk '/{run.id}/{{print $8}}'\")\n",
    "run.reference = nextflow_id\n",
    "run.reference_type = \"nextflow_id\"\n",
    "run.save()"
   ]
  },
  {
   "cell_type": "markdown",
   "id": "9f607150",
   "metadata": {},
   "source": [
    "## Data lineage"
   ]
  },
  {
   "cell_type": "markdown",
   "id": "54595d81",
   "metadata": {},
   "source": [
    "View data lineage:"
   ]
  },
  {
   "cell_type": "code",
   "execution_count": null,
   "id": "ba83bfee-5cb8-4520-9a32-0deccd47ff34",
   "metadata": {},
   "outputs": [],
   "source": [
    "mcmicro_registered_File.view_flow()"
   ]
  },
  {
   "cell_type": "markdown",
   "id": "ee3db779",
   "metadata": {},
   "source": [
    "View the database content:"
   ]
  },
  {
   "cell_type": "code",
   "execution_count": null,
   "id": "e45c2584",
   "metadata": {},
   "outputs": [],
   "source": [
    "ln.view()"
   ]
  },
  {
   "cell_type": "markdown",
   "id": "ad06a7e1",
   "metadata": {},
   "source": [
    "Clean up the test instance:"
   ]
  },
  {
   "cell_type": "code",
   "execution_count": null,
   "id": "5f3f95a8",
   "metadata": {
    "tags": [
     "hide-output"
    ]
   },
   "outputs": [],
   "source": [
    "!lamin delete --force nextflow-mcmicro"
   ]
  },
  {
   "cell_type": "markdown",
   "id": "ce3e6e84",
   "metadata": {},
   "source": [
    "If you are interested in registering bulk RNA-seq data with Lamin, you can have a look at our [nf-core/rnaseq example](https://github.com/laminlabs/nextflow-lamin-usecases/blob/main/nextflow_bulk_rna.ipynb)."
   ]
  }
 ],
 "metadata": {
  "kernelspec": {
   "display_name": "Python 3 (ipykernel)",
   "language": "python",
   "name": "python3"
  },
  "language_info": {
   "codemirror_mode": {
    "name": "ipython",
    "version": 3
   },
   "file_extension": ".py",
   "mimetype": "text/x-python",
   "name": "python",
   "nbconvert_exporter": "python",
   "pygments_lexer": "ipython3",
   "version": "3.11.5"
  },
  "nbproject": {
   "id": "8124Vtle6ZrO",
   "parent": null,
   "pypackage": null,
   "time_init": "2023-07-24T13:06:04.795992+00:00",
   "user_handle": null,
   "user_id": null,
   "user_name": null,
   "version": "0"
  }
 },
 "nbformat": 4,
 "nbformat_minor": 5
}
