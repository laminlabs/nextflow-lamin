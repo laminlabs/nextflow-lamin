{
 "cells": [
  {
   "cell_type": "markdown",
   "id": "a1c40541-e05e-48a3-8b50-33baf3d6d0d4",
   "metadata": {},
   "source": [
    "# Nextflow"
   ]
  },
  {
   "cell_type": "markdown",
   "id": "cd12ac1a-73e6-44e2-a854-6fa5e52cfd41",
   "metadata": {},
   "source": [
    "[Nextflow](https://www.nextflow.io/) is a workflow management system used for executing scientific workflows across platforms scalably, portably, and reproducibly.\n",
    "\n",
    "Here, we'll run a demo of the microscopy pipeline [mcmicro](https://github.com/labsyspharm/mcmicro) to correct uneven illumination. [Reference](https://mcmicro.org/)"
   ]
  },
  {
   "cell_type": "markdown",
   "id": "8e7d3a5e",
   "metadata": {},
   "source": [
    "```{note}\n",
    "\n",
    "This notebook serves as a demo for how to integrate lamindb with Nextflow runs.\n",
    "Typically, you run the Nextflow workflow from the command line or Nextflow tower and then register input and output data with a script.\n",
    "```"
   ]
  },
  {
   "cell_type": "markdown",
   "id": "fe9ab200",
   "metadata": {},
   "source": [
    "## Setup"
   ]
  },
  {
   "cell_type": "markdown",
   "id": "b7c8e52d",
   "metadata": {},
   "source": [
    "Let's load an [instance that already has example data](https://github.com/laminlabs/nextflow-lamin-usecases/blob/main/docs/mcmicro_01.ipynb)."
   ]
  },
  {
   "cell_type": "code",
   "execution_count": null,
   "id": "756e24d7-b2a0-4a10-bf6c-f532e0cc323b",
   "metadata": {
    "tags": [
     "hide-output"
    ]
   },
   "outputs": [],
   "source": [
    "!lamin load nextflow-mcmicro"
   ]
  },
  {
   "cell_type": "code",
   "execution_count": null,
   "id": "3358a50f",
   "metadata": {},
   "outputs": [],
   "source": [
    "import lamindb as ln"
   ]
  },
  {
   "cell_type": "markdown",
   "id": "ecb68cf2-1188-4f8b-a2ab-01c60d5779b8",
   "metadata": {},
   "source": [
    "## Run and register Nextflow workflow"
   ]
  },
  {
   "cell_type": "code",
   "execution_count": null,
   "id": "2219c55e",
   "metadata": {
    "tags": [
     "hide-output"
    ]
   },
   "outputs": [],
   "source": [
    "!nextflow run https://github.com/labsyspharm/mcmicro --in exemplar-001 --start-at illumination --stop-at registration -with-report execution_report.html"
   ]
  },
  {
   "cell_type": "markdown",
   "id": "e16d2a67",
   "metadata": {},
   "source": [
    "Now we register our Nextflow run by running our [registration script](https://github.com/laminlabs/nextflow-lamin-usecases/blob/main/docs/register_mcmicro_run.py)."
   ]
  },
  {
   "cell_type": "code",
   "execution_count": null,
   "id": "38e83af2",
   "metadata": {},
   "outputs": [],
   "source": [
    "!python test_register_mcmicro_run.py"
   ]
  },
  {
   "cell_type": "markdown",
   "id": "9f607150",
   "metadata": {},
   "source": [
    "## Data lineage"
   ]
  },
  {
   "cell_type": "markdown",
   "id": "54595d81",
   "metadata": {},
   "source": [
    "View data lineage:"
   ]
  },
  {
   "cell_type": "code",
   "execution_count": null,
   "id": "dda2b400",
   "metadata": {},
   "outputs": [],
   "source": [
    "output = ln.Artifact.filter(description__icontains=\"mcmicro\").one()"
   ]
  },
  {
   "cell_type": "code",
   "execution_count": null,
   "id": "ba83bfee-5cb8-4520-9a32-0deccd47ff34",
   "metadata": {},
   "outputs": [],
   "source": [
    "output.view_lineage()"
   ]
  },
  {
   "cell_type": "markdown",
   "id": "ee3db779",
   "metadata": {},
   "source": [
    "View the database content:"
   ]
  },
  {
   "cell_type": "code",
   "execution_count": null,
   "id": "e45c2584",
   "metadata": {},
   "outputs": [],
   "source": [
    "ln.view()"
   ]
  },
  {
   "cell_type": "markdown",
   "id": "ad06a7e1",
   "metadata": {},
   "source": [
    "Clean up the test instance:"
   ]
  },
  {
   "cell_type": "code",
   "execution_count": null,
   "id": "5f3f95a8",
   "metadata": {
    "tags": [
     "hide-output"
    ]
   },
   "outputs": [],
   "source": [
    "!lamin delete --force nextflow-mcmicro"
   ]
  },
  {
   "cell_type": "markdown",
   "id": "ce3e6e84",
   "metadata": {},
   "source": [
    "If you are interested in registering bulk RNA-seq data with Lamin, you can have a look at our [nf-core/rnaseq example](https://github.com/laminlabs/nextflow-lamin-usecases/blob/main/nextflow_bulk_rna.ipynb)."
   ]
  }
 ],
 "metadata": {
  "kernelspec": {
   "display_name": "Python 3 (ipykernel)",
   "language": "python",
   "name": "python3"
  },
  "language_info": {
   "codemirror_mode": {
    "name": "ipython",
    "version": 3
   },
   "file_extension": ".py",
   "mimetype": "text/x-python",
   "name": "python",
   "nbconvert_exporter": "python",
   "pygments_lexer": "ipython3",
   "version": "3.11.7"
  },
  "nbproject": {
   "id": "8124Vtle6ZrO",
   "parent": null,
   "pypackage": null,
   "time_init": "2023-07-24T13:06:04.795992+00:00",
   "user_handle": null,
   "user_id": null,
   "user_name": null,
   "version": "0"
  }
 },
 "nbformat": 4,
 "nbformat_minor": 5
}
