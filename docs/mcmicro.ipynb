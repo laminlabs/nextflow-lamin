{
 "cells": [
  {
   "cell_type": "markdown",
   "id": "a1c40541-e05e-48a3-8b50-33baf3d6d0d4",
   "metadata": {},
   "source": [
    "# Nextflow"
   ]
  },
  {
   "cell_type": "markdown",
   "id": "cd12ac1a-73e6-44e2-a854-6fa5e52cfd41",
   "metadata": {},
   "source": [
    "[Nextflow](https://www.nextflow.io/) is a workflow management system used for executing scientific workflows across platforms scalably, portably, and reproducibly.\n",
    "\n",
    "Here, we'll run a demo of the microscopy pipeline [mcmicro](https://github.com/labsyspharm/mcmicro) to correct uneven illumination. [Reference](https://mcmicro.org/)"
   ]
  },
  {
   "cell_type": "markdown",
   "id": "8e7d3a5e",
   "metadata": {},
   "source": [
    "```{note}\n",
    "\n",
    "Typically, you run the Nextflow workflow from the command line or Seqera Platform and then register input and output data with a script.\n",
    "The Seqera Platform allows for [post-run scripts](https://docs.seqera.io/platform/23.4.0/launch/advanced#pre-and-post-run-scripts) that can automate this process.\n",
    "```"
   ]
  },
  {
   "cell_type": "code",
   "execution_count": null,
   "id": "756e24d7-b2a0-4a10-bf6c-f532e0cc323b",
   "metadata": {
    "tags": [
     "hide-output"
    ]
   },
   "outputs": [],
   "source": [
    "!lamin init --storage . --name nextflow-mcmicro"
   ]
  },
  {
   "cell_type": "code",
   "execution_count": null,
   "id": "3358a50f",
   "metadata": {},
   "outputs": [],
   "source": [
    "import lamindb as ln"
   ]
  },
  {
   "cell_type": "markdown",
   "id": "27c76922",
   "metadata": {},
   "source": [
    "## Run mcmicro/exemplar pipeline"
   ]
  },
  {
   "cell_type": "markdown",
   "id": "2d7fa65b",
   "metadata": {},
   "source": [
    "Register the `exemplar-001` data as input of the mcmicro pipeline by running the script below:"
   ]
  },
  {
   "cell_type": "code",
   "execution_count": null,
   "id": "6cd3e0a0",
   "metadata": {
    "tags": [
     "hide-input",
     "hide-output"
    ]
   },
   "outputs": [],
   "source": [
    "from IPython.display import display, Code\n",
    "\n",
    "with open('mcmicro_exemplar.py', 'r') as file:\n",
    "    display(Code(file.read(), language='python'))"
   ]
  },
  {
   "cell_type": "code",
   "execution_count": null,
   "id": "cc5c9e59",
   "metadata": {
    "tags": [
     "hide-output"
    ]
   },
   "outputs": [],
   "source": [
    "!python mcmicro_exemplar.py exemplar-001"
   ]
  },
  {
   "cell_type": "markdown",
   "id": "ecb68cf2-1188-4f8b-a2ab-01c60d5779b8",
   "metadata": {},
   "source": [
    "## Run mcmicro pipeline\n",
    "\n",
    "Run mcmicro pipeline and track input/output data with the script below:"
   ]
  },
  {
   "cell_type": "code",
   "execution_count": null,
   "id": "2d0a0e06",
   "metadata": {
    "tags": [
     "hide-input"
    ]
   },
   "outputs": [],
   "source": [
    "with open('mcmicro.py', 'r') as file:\n",
    "    display(Code(file.read(), language='python'))"
   ]
  },
  {
   "cell_type": "code",
   "execution_count": null,
   "id": "285ee7b8",
   "metadata": {
    "tags": [
     "hide-output"
    ]
   },
   "outputs": [],
   "source": [
    "!python mcmicro.py exemplar-001"
   ]
  },
  {
   "cell_type": "markdown",
   "id": "9f607150",
   "metadata": {},
   "source": [
    "## Data lineage"
   ]
  },
  {
   "cell_type": "markdown",
   "id": "54595d81",
   "metadata": {},
   "source": [
    "View data lineage:"
   ]
  },
  {
   "cell_type": "code",
   "execution_count": null,
   "id": "dda2b400",
   "metadata": {},
   "outputs": [],
   "source": [
    "output = ln.Artifact.filter(key__icontains=\"exemplar-001.ome.tif\").one()"
   ]
  },
  {
   "cell_type": "code",
   "execution_count": null,
   "id": "ba83bfee-5cb8-4520-9a32-0deccd47ff34",
   "metadata": {},
   "outputs": [],
   "source": [
    "output.view_lineage()"
   ]
  },
  {
   "cell_type": "markdown",
   "id": "ee3db779",
   "metadata": {},
   "source": [
    "View the database content:"
   ]
  },
  {
   "cell_type": "code",
   "execution_count": null,
   "id": "e45c2584",
   "metadata": {},
   "outputs": [],
   "source": [
    "ln.view()"
   ]
  },
  {
   "cell_type": "code",
   "execution_count": null,
   "id": "5f3f95a8",
   "metadata": {
    "tags": [
     "hide-cell"
    ]
   },
   "outputs": [],
   "source": [
    "# clean up the test instance:\n",
    "!lamin delete --force nextflow-mcmicro"
   ]
  }
 ],
 "metadata": {
  "kernelspec": {
   "display_name": "Python 3 (ipykernel)",
   "language": "python",
   "name": "python3"
  },
  "language_info": {
   "codemirror_mode": {
    "name": "ipython",
    "version": 3
   },
   "file_extension": ".py",
   "mimetype": "text/x-python",
   "name": "python",
   "nbconvert_exporter": "python",
   "pygments_lexer": "ipython3",
   "version": "3.10.13"
  },
  "nbproject": {
   "id": "8124Vtle6ZrO",
   "parent": null,
   "pypackage": null,
   "time_init": "2023-07-24T13:06:04.795992+00:00",
   "user_handle": null,
   "user_id": null,
   "user_name": null,
   "version": "0"
  }
 },
 "nbformat": 4,
 "nbformat_minor": 5
}
