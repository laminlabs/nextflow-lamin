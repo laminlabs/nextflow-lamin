{
 "cells": [
  {
   "cell_type": "markdown",
   "id": "a1c40541-e05e-48a3-8b50-33baf3d6d0d4",
   "metadata": {},
   "source": [
    "# Nextflow"
   ]
  },
  {
   "cell_type": "markdown",
   "id": "cd12ac1a-73e6-44e2-a854-6fa5e52cfd41",
   "metadata": {},
   "source": [
    "[Nextflow](https://www.nextflow.io/) is a workflow management system used for executing scientific workflows across platforms scalably, portably, and reproducibly.\n",
    "\n",
    "Here, we'll run a demo of the microscopy pipeline [mcmicro](https://github.com/labsyspharm/mcmicro) to correct uneven illumination. [Reference](https://mcmicro.org/)"
   ]
  },
  {
   "cell_type": "markdown",
   "id": "8e7d3a5e",
   "metadata": {},
   "source": [
    "```{note}\n",
    "\n",
    "Typically, you run the Nextflow workflow from the command line or Seqera Platform and then register input and output data with a script.\n",
    "The Seqera Platform allows for [post-run scripts](https://docs.seqera.io/platform/23.4.0/launch/advanced#pre-and-post-run-scripts) that can automate this process.\n",
    "```"
   ]
  },
  {
   "cell_type": "code",
   "execution_count": null,
   "id": "756e24d7-b2a0-4a10-bf6c-f532e0cc323b",
   "metadata": {
    "tags": [
     "hide-output"
    ]
   },
   "outputs": [],
   "source": [
    "!lamin init --storage ./test-nextflow --name test-nextflow"
   ]
  },
  {
   "cell_type": "code",
   "execution_count": null,
   "id": "3358a50f",
   "metadata": {},
   "outputs": [],
   "source": [
    "import lamindb as ln"
   ]
  },
  {
   "cell_type": "markdown",
   "id": "ecb68cf2-1188-4f8b-a2ab-01c60d5779b8",
   "metadata": {},
   "source": [
    "## Run mcmicro pipeline\n",
    "\n",
    "Run mcmicro pipeline and track input/output data with the script below:"
   ]
  },
  {
   "cell_type": "code",
   "execution_count": null,
   "id": "2d0a0e06",
   "metadata": {
    "tags": [
     "hide-input"
    ]
   },
   "outputs": [],
   "source": []
  },
  {
   "cell_type": "code",
   "execution_count": null,
   "id": "285ee7b8",
   "metadata": {
    "tags": [
     "hide-output"
    ]
   },
   "outputs": [],
   "source": [
    "import subprocess\n",
    "import lamindb as ln\n",
    "import yaml\n",
    "import shutil\n",
    "from pathlib import Path\n",
    "\n",
    "transform = ln.Transform(\n",
    "    name=\"MCMICRO\",\n",
    "    version=\"1.0.0\",\n",
    "    type=\"pipeline\",\n",
    "    reference=\"https://github.com/labsyspharm/mcmicro\",\n",
    ")\n",
    "ln.context.track(transform=transform)\n",
    "run = ln.context.run\n",
    "\n",
    "mcmicro_input = ln.Artifact.using(\"laminlabs/lamindata\").get(uid=\"iTLHluoQczqH6ZypgDxA\")\n",
    "input_dir = mcmicro_input.cache()\n",
    "if not (dest := Path.cwd() / Path(input_dir.path).name).exists():\n",
    "    shutil.copytree(input_dir.path, dest)\n",
    "\n",
    "report = \"exemplar-001-mcmicro-execution_report.html\"\n",
    "subprocess.run(\n",
    "    [\n",
    "        \"nextflow\",\n",
    "        \"run\",\n",
    "        \"https://github.com/labsyspharm/mcmicro\",\n",
    "        \"--in\",\n",
    "        dest,\n",
    "        \"--start-at\",\n",
    "        \"illumination\",\n",
    "        \"--stop-at\",\n",
    "        \"registration\",\n",
    "        \"-with-report\",\n",
    "        report,\n",
    "    ]\n",
    ")\n",
    "\n",
    "nextflow_id = subprocess.getoutput(\n",
    "    \"nextflow log | tail -n 1 | awk -F '\\t' '{print $6}'\"\n",
    ")\n",
    "\n",
    "ulabel = ln.ULabel(name=\"nextflow\").save()\n",
    "run.transform.ulabels.add(ulabel)\n",
    "\n",
    "report_artifact = ln.Artifact(\n",
    "    report, description=f\"nextflow report of {nextflow_id}\", visibility=0, run=False\n",
    ").save()\n",
    "run.report = report_artifact\n",
    "run.reference = nextflow_id\n",
    "run.reference_type = \"nextflow_id\"\n",
    "run.save()\n",
    "\n",
    "with open(f\"{dest}/qc/params.yml\") as params_file:\n",
    "    qc_params = yaml.safe_load(params_file)\n",
    "ln.Param(name=\"qc_params\", dtype=\"dict\").save()\n",
    "run.params.add_values({\"qc_params\": qc_params})\n",
    "\n",
    "Path(f\"{dest}/registration\").joinpath(f\"{Path(dest).name}.ome.tif\").rename(\n",
    "    Path(f\"{dest}/registration/exemplar-001.ome.tif\")\n",
    ")\n",
    "output = ln.Artifact.from_dir(f\"{dest}/registration\")\n",
    "ln.save(output)\n",
    "ln.context.finish()"
   ]
  },
  {
   "cell_type": "markdown",
   "id": "9f607150",
   "metadata": {},
   "source": [
    "## Data lineage"
   ]
  },
  {
   "cell_type": "markdown",
   "id": "54595d81",
   "metadata": {},
   "source": [
    "View data lineage:"
   ]
  },
  {
   "cell_type": "code",
   "execution_count": null,
   "id": "dda2b400",
   "metadata": {},
   "outputs": [],
   "source": [
    "output = ln.Artifact.filter(key__icontains=\"exemplar-001.ome.tif\").one()"
   ]
  },
  {
   "cell_type": "code",
   "execution_count": null,
   "id": "ba83bfee-5cb8-4520-9a32-0deccd47ff34",
   "metadata": {},
   "outputs": [],
   "source": [
    "output.view_lineage()"
   ]
  },
  {
   "cell_type": "markdown",
   "id": "038286a7",
   "metadata": {},
   "source": [
    "## View transforms and runs in LaminHub\n",
    "\n",
    "[![hub](https://img.shields.io/badge/View%20in%20LaminHub-mediumseagreen)](https://lamin.ai/laminlabs/lamindata/transform/vMwsczN6lGZWRm8w/foyuuRRmEt7KYiaU8hPD)\n",
    "\n",
    "<img src=\"https://lamin-site-assets.s3.amazonaws.com/.lamindb/FtEgTeQ9FXdbVWNnVTZ2.png\" width=\"900px\">"
   ]
  },
  {
   "cell_type": "markdown",
   "id": "ee3db779",
   "metadata": {},
   "source": [
    "## View the database content"
   ]
  },
  {
   "cell_type": "code",
   "execution_count": null,
   "id": "e45c2584",
   "metadata": {},
   "outputs": [],
   "source": [
    "ln.view()"
   ]
  },
  {
   "cell_type": "code",
   "execution_count": null,
   "id": "5f3f95a8",
   "metadata": {
    "tags": [
     "hide-cell"
    ]
   },
   "outputs": [],
   "source": [
    "# clean up the test instance:\n",
    "!rm -rf test-nextflow\n",
    "!lamin delete --force test-nextflow"
   ]
  }
 ],
 "metadata": {
  "kernelspec": {
   "display_name": "Python 3 (ipykernel)",
   "language": "python",
   "name": "python3"
  },
  "language_info": {
   "codemirror_mode": {
    "name": "ipython",
    "version": 3
   },
   "file_extension": ".py",
   "mimetype": "text/x-python",
   "name": "python",
   "nbconvert_exporter": "python",
   "pygments_lexer": "ipython3",
   "version": "3.11.7"
  },
  "nbproject": {
   "id": "8124Vtle6ZrO",
   "parent": null,
   "pypackage": null,
   "time_init": "2023-07-24T13:06:04.795992+00:00",
   "user_handle": null,
   "user_id": null,
   "user_name": null,
   "version": "0"
  }
 },
 "nbformat": 4,
 "nbformat_minor": 5
}
