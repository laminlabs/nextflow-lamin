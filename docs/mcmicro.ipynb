{
 "cells": [
  {
   "cell_type": "markdown",
   "id": "a1c40541-e05e-48a3-8b50-33baf3d6d0d4",
   "metadata": {},
   "source": [
    "# Nextflow"
   ]
  },
  {
   "cell_type": "markdown",
   "id": "cd12ac1a-73e6-44e2-a854-6fa5e52cfd41",
   "metadata": {},
   "source": [
    "[Nextflow](https://www.nextflow.io/) is a workflow management system used for executing scientific workflows across platforms scalably, portably, and reproducibly.\n",
    "\n",
    "There are several options to automatically ingest Nextflow pipeline outputs into Lamindb instances:\n",
    "\n",
    "1. Using a serverless environment trigger (e.g., AWS Lambda) to execute a Python script.\n",
    "2. By using a [post-run script](https://docs.seqera.io/platform/23.4.0/launch/advanced#pre-and-post-run-scripts) on the Seqera Platform.\n",
    "\n",
    "Both approaches execute a script that connects to the Lamindb instance and ingests the run output, similar to the one shown below.\n",
    "\n",
    "This guide shows how to manually ingest a Nextflow run and illustrates what such an automated script could look like by registering the output of a run of the [mcmicro](https://github.com/labsyspharm/mcmicro) [Reference](https://mcmicro.org/) microscopy pipeline into a lamin instance."
   ]
  },
  {
   "cell_type": "code",
   "execution_count": null,
   "id": "756e24d7-b2a0-4a10-bf6c-f532e0cc323b",
   "metadata": {
    "tags": [
     "hide-output"
    ]
   },
   "outputs": [],
   "source": [
    "!lamin init --storage ./test-nextflow --name test-nextflow"
   ]
  },
  {
   "cell_type": "code",
   "execution_count": null,
   "id": "3358a50f",
   "metadata": {},
   "outputs": [],
   "source": [
    "import lamindb as ln"
   ]
  },
  {
   "cell_type": "markdown",
   "id": "ecb68cf2-1188-4f8b-a2ab-01c60d5779b8",
   "metadata": {},
   "source": [
    "## Run mcmicro pipeline\n",
    "\n",
    "Run mcmicro pipeline and track input/output data with the script below:"
   ]
  },
  {
   "cell_type": "code",
   "execution_count": null,
   "id": "2d0a0e06",
   "metadata": {
    "tags": [
     "hide-input"
    ]
   },
   "outputs": [],
   "source": [
    "from IPython.display import display, Code\n",
    "\n",
    "with open('mcmicro.py', 'r') as file:\n",
    "    display(Code(file.read(), language='python'))"
   ]
  },
  {
   "cell_type": "code",
   "execution_count": null,
   "id": "285ee7b8",
   "metadata": {
    "tags": [
     "hide-output"
    ]
   },
   "outputs": [],
   "source": [
    "!python mcmicro.py exemplar-001"
   ]
  },
  {
   "cell_type": "markdown",
   "id": "9f607150",
   "metadata": {},
   "source": [
    "## Data lineage"
   ]
  },
  {
   "cell_type": "code",
   "execution_count": null,
   "id": "dda2b400",
   "metadata": {},
   "outputs": [],
   "source": [
    "output = ln.Artifact.filter(key__icontains=\"exemplar-001.ome.tif\").one()"
   ]
  },
  {
   "cell_type": "code",
   "execution_count": null,
   "id": "ba83bfee-5cb8-4520-9a32-0deccd47ff34",
   "metadata": {},
   "outputs": [],
   "source": [
    "output.view_lineage()"
   ]
  },
  {
   "cell_type": "markdown",
   "id": "038286a7",
   "metadata": {},
   "source": [
    "## View transforms and runs in LaminHub\n",
    "\n",
    "[![hub](https://img.shields.io/badge/View%20in%20LaminHub-mediumseagreen)](https://lamin.ai/laminlabs/lamindata/transform/vMwsczN6lGZWRm8w/foyuuRRmEt7KYiaU8hPD)\n",
    "\n",
    "<img src=\"https://lamin-site-assets.s3.amazonaws.com/.lamindb/FtEgTeQ9FXdbVWNnVTZ2.png\" width=\"900px\">"
   ]
  },
  {
   "cell_type": "markdown",
   "id": "ee3db779",
   "metadata": {},
   "source": [
    "## View the database content"
   ]
  },
  {
   "cell_type": "code",
   "execution_count": null,
   "id": "e45c2584",
   "metadata": {},
   "outputs": [],
   "source": [
    "ln.view()"
   ]
  },
  {
   "cell_type": "code",
   "execution_count": null,
   "id": "5f3f95a8",
   "metadata": {
    "tags": [
     "hide-cell"
    ]
   },
   "outputs": [],
   "source": [
    "# clean up the test instance:\n",
    "!rm -rf test-nextflow\n",
    "!lamin delete --force test-nextflow"
   ]
  }
 ],
 "metadata": {
  "kernelspec": {
   "display_name": "Python 3 (ipykernel)",
   "language": "python",
   "name": "python3"
  },
  "language_info": {
   "codemirror_mode": {
    "name": "ipython",
    "version": 3
   },
   "file_extension": ".py",
   "mimetype": "text/x-python",
   "name": "python",
   "nbconvert_exporter": "python",
   "pygments_lexer": "ipython3",
   "version": "3.11.7"
  },
  "nbproject": {
   "id": "8124Vtle6ZrO",
   "parent": null,
   "pypackage": null,
   "time_init": "2023-07-24T13:06:04.795992+00:00",
   "user_handle": null,
   "user_id": null,
   "user_name": null,
   "version": "0"
  }
 },
 "nbformat": 4,
 "nbformat_minor": 5
}
