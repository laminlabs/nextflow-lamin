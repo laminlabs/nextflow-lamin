{
 "cells": [
  {
   "cell_type": "markdown",
   "id": "a1c40541-e05e-48a3-8b50-33baf3d6d0d4",
   "metadata": {},
   "source": [
    "# Nextflow"
   ]
  },
  {
   "cell_type": "markdown",
   "id": "cd12ac1a-73e6-44e2-a854-6fa5e52cfd41",
   "metadata": {},
   "source": [
    "[Nextflow](https://www.nextflow.io/) is a workflow management system used for executing scientific workflows across platforms scalably, portably, and reproducibly.\n",
    "There are several options to automatically register Nextflow pipeline outputs into Lamindb instances:\n",
    "\n",
    "1. Using a serverless environment trigger (e.g., AWS Lambda) to execute a Python script.\n",
    "2. By using a [post-run script](https://docs.seqera.io/platform/23.4.0/launch/advanced#pre-and-post-run-scripts) on the Seqera Platform.\n",
    "\n",
    "Both approaches execute a script that connects to the Lamindb instance and registers the run output, similar to the one shown below.\n",
    "\n",
    "This guide shows how to manually register a Nextflow run and illustrates what such an automated script could look like by registering the output of a run of the [nf-core/scrnaseq](https://nf-co.re/scrnaseq/latest) pipeline into a lamin instance."
   ]
  },
  {
   "cell_type": "code",
   "execution_count": null,
   "id": "756e24d7-b2a0-4a10-bf6c-f532e0cc323b",
   "metadata": {
    "tags": [
     "hide-output"
    ]
   },
   "outputs": [],
   "source": [
    "!lamin init --storage ./test-nextflow --name test-nextflow"
   ]
  },
  {
   "cell_type": "code",
   "execution_count": null,
   "id": "3358a50f",
   "metadata": {},
   "outputs": [],
   "source": [
    "import lamindb as ln\n",
    "import anndata as ad"
   ]
  },
  {
   "cell_type": "markdown",
   "id": "ecb68cf2-1188-4f8b-a2ab-01c60d5779b8",
   "metadata": {},
   "source": [
    "## Run nf-core/scrnaseq pipeline\n",
    "\n",
    "Run nf-core/scrnaseq pipeline which can serve as a trigger for a registration script."
   ]
  },
  {
   "cell_type": "code",
   "execution_count": null,
   "id": "258cdd13",
   "metadata": {},
   "outputs": [],
   "source": [
    "# The input data can be on a different machine than the one that executes the Nextflow pipeline\n",
    "input_path = ln.UPath(\"s3://lamindb-test/scrnaseq_input\")\n",
    "input_path.download_to(\"scrnaseq_input\")"
   ]
  },
  {
   "cell_type": "code",
   "execution_count": null,
   "id": "2e98958f",
   "metadata": {
    "tags": [
     "hide-output"
    ]
   },
   "outputs": [],
   "source": [
    "# The test profile takes all just downloaded input files as input.\n",
    "!nextflow run nf-core/scrnaseq -r 2.7.1 -profile docker,test -resume --outdir scrnaseq_output"
   ]
  },
  {
   "cell_type": "markdown",
   "id": "d1a77f5a",
   "metadata": {},
   "source": [
    ":::{dropdown} What is the full run command for the test profile?\n",
    "\n",
    "```\n",
    "nextflow run nf-core/scrnaseq -r 2.7.1 \\\n",
    "    -profile docker \\\n",
    "    -resume \\\n",
    "    --outdir scrnaseq_output \\\n",
    "    --input 'scrnaseq_input/samplesheet-2-0.csv' \\\n",
    "    --skip_emptydrops \\\n",
    "    --fasta 'https://github.com/nf-core/test-datasets/raw/scrnaseq/reference/GRCm38.p6.genome.chr19.fa' \\\n",
    "    --gtf 'https://github.com/nf-core/test-datasets/raw/scrnaseq/reference/gencode.vM19.annotation.chr19.gtf' \\\n",
    "    --aligner 'star' \\\n",
    "    --protocol '10XV2' \\\n",
    "    --max_cpus 2 \\\n",
    "    --max_memory '6.GB' \\\n",
    "    --max_time '6.h'\n",
    "```\n",
    ":::"
   ]
  },
  {
   "cell_type": "markdown",
   "id": "4b1c950f",
   "metadata": {},
   "source": [
    "## Run registration script"
   ]
  },
  {
   "cell_type": "markdown",
   "id": "45ec5b04",
   "metadata": {},
   "source": [
    "After the pipeline has successfully completed, a script can be kicked off that registers the input and output data into a lamindb instance."
   ]
  },
  {
   "cell_type": "markdown",
   "id": "2d0a0e06",
   "metadata": {},
   "source": [
    "```{eval-rst}\n",
    ".. literalinclude:: register_scrnaseq_run.py\n",
    "   :language: python\n",
    "   :caption: nf-core/scrnaseq run registration\n",
    "```"
   ]
  },
  {
   "cell_type": "code",
   "execution_count": null,
   "id": "285ee7b8",
   "metadata": {
    "tags": [
     "hide-output"
    ]
   },
   "outputs": [],
   "source": [
    "!python register_scrnaseq_run.py --input scrnaseq_input --output scrnaseq_output"
   ]
  },
  {
   "cell_type": "markdown",
   "id": "9f607150",
   "metadata": {},
   "source": [
    "## Data lineage"
   ]
  },
  {
   "cell_type": "markdown",
   "id": "806408d0",
   "metadata": {},
   "source": [
    "The output data could now be accessed (in a different notebook/script) for analysis with full lineage."
   ]
  },
  {
   "cell_type": "code",
   "execution_count": null,
   "id": "bc17c815",
   "metadata": {
    "tags": [
     "hide-output"
    ]
   },
   "outputs": [],
   "source": [
    "matrix_af = ln.Artifact.get(description__icontains=\"filtered count matrix\")"
   ]
  },
  {
   "cell_type": "code",
   "execution_count": null,
   "id": "482d78b9",
   "metadata": {},
   "outputs": [],
   "source": [
    "matrix_af.view_lineage()"
   ]
  },
  {
   "cell_type": "markdown",
   "id": "038286a7",
   "metadata": {},
   "source": [
    "## View transforms and runs in LaminHub\n",
    "\n",
    "[![hub](https://img.shields.io/badge/View%20in%20LaminHub-mediumseagreen)](https://lamin.ai/laminlabs/lamindata/transform/vMwsczN6lGZWRm8w/foyuuRRmEt7KYiaU8hPD)\n",
    "\n",
    "<img src=\"https://lamin-site-assets.s3.amazonaws.com/.lamindb/FtEgTeQ9FXdbVWNnVTZ2.png\" width=\"900px\">"
   ]
  },
  {
   "cell_type": "markdown",
   "id": "ee3db779",
   "metadata": {},
   "source": [
    "## View the database content"
   ]
  },
  {
   "cell_type": "code",
   "execution_count": null,
   "id": "e45c2584",
   "metadata": {
    "tags": [
     "hide-output"
    ]
   },
   "outputs": [],
   "source": [
    "ln.view()"
   ]
  },
  {
   "cell_type": "code",
   "execution_count": null,
   "id": "5f3f95a8",
   "metadata": {
    "tags": [
     "hidden"
    ]
   },
   "outputs": [],
   "source": [
    "# clean up the test instance:\n",
    "!rm -rf test-nextflow\n",
    "!lamin delete --force test-nextflow"
   ]
  }
 ],
 "metadata": {
  "kernelspec": {
   "display_name": "Python 3 (ipykernel)",
   "language": "python",
   "name": "python3"
  },
  "language_info": {
   "codemirror_mode": {
    "name": "ipython",
    "version": 3
   },
   "file_extension": ".py",
   "mimetype": "text/x-python",
   "name": "python",
   "nbconvert_exporter": "python",
   "pygments_lexer": "ipython3",
   "version": "3.11.7"
  },
  "nbproject": {
   "id": "8124Vtle6ZrO",
   "parent": null,
   "pypackage": null,
   "time_init": "2023-07-24T13:06:04.795992+00:00",
   "user_handle": null,
   "user_id": null,
   "user_name": null,
   "version": "0"
  }
 },
 "nbformat": 4,
 "nbformat_minor": 5
}
