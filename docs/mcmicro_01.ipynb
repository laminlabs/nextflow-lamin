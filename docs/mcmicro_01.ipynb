{
 "cells": [
  {
   "cell_type": "markdown",
   "metadata": {},
   "source": [
    "# mcmicro input file registration"
   ]
  },
  {
   "cell_type": "markdown",
   "metadata": {},
   "source": [
    "This notebook registers the `exemplar-001` data of the mcmicro tutorial."
   ]
  },
  {
   "cell_type": "code",
   "execution_count": 1,
   "metadata": {},
   "outputs": [
    {
     "name": "stdout",
     "output_type": "stream",
     "text": [
      "✅ wrote new records from public sources.yaml to /home/zeth/.lamin/bionty/versions/sources_local.yaml!\n",
      "\n",
      "if you see this message repeatedly, run: import bionty_base; bionty_base.reset_sources()\n",
      "2024-06-20 19:07:58,043:WARNING - Python-dotenv could not parse statement starting at line 8\n",
      "💡 connected lamindb: zethson/nextflow-mcmicro\n"
     ]
    }
   ],
   "source": [
    "!lamin init --storage . --name nextflow-mcmicro"
   ]
  },
  {
   "cell_type": "code",
   "execution_count": 2,
   "metadata": {},
   "outputs": [
    {
     "name": "stdout",
     "output_type": "stream",
     "text": [
      "💡 connected lamindb: zethson/nextflow-mcmicro\n"
     ]
    }
   ],
   "source": [
    "import lamindb as ln"
   ]
  },
  {
   "cell_type": "code",
   "execution_count": 3,
   "metadata": {},
   "outputs": [
    {
     "name": "stderr",
     "output_type": "stream",
     "text": [
      "2024-06-20 19:07:59,685:WARNING - Python-dotenv could not parse statement starting at line 8\n"
     ]
    },
    {
     "name": "stdout",
     "output_type": "stream",
     "text": [
      "💡 saved: Transform(uid='mLaZAwGHxIlcMIAn', name='Download', type='pipeline', created_by_id=1, updated_at='2024-06-20 17:07:59 UTC')\n",
      "💡 saved: Run(uid='fPioJi5REBp3c4uMbobQ', transform_id=1, created_by_id=1)\n"
     ]
    },
    {
     "data": {
      "text/plain": [
       "Run(uid='fPioJi5REBp3c4uMbobQ', started_at='2024-06-20 17:07:59 UTC', is_consecutive=True, transform_id=1, created_by_id=1)"
      ]
     },
     "execution_count": 3,
     "metadata": {},
     "output_type": "execute_result"
    }
   ],
   "source": [
    "download = ln.Transform(name=\"Download\")\n",
    "download_url = \"https://github.com/nf-core/mcmicro\"\n",
    "ln.track(transform=download)"
   ]
  },
  {
   "cell_type": "code",
   "execution_count": 4,
   "metadata": {},
   "outputs": [
    {
     "name": "stdout",
     "output_type": "stream",
     "text": [
      "N E X T F L O W  ~  version 23.04.2\n",
      "NOTE: Your local project version looks outdated - a different revision is available in the remote repository [a095a0516f]\n",
      "Launching `https://github.com/labsyspharm/mcmicro` [kickass_solvay] DSL2 - revision: 00ec8d4096 [master]\n",
      "[-        ] process > getImages       -\u001b[K\n",
      "[-        ] process > getIllumination -\u001b[K\n",
      "[-        ] process > getMarkers      -\u001b[K\n",
      "[-        ] process > getParams       -\u001b[K\n",
      "\u001b[5A\n",
      "[-        ] process > getImages       -\u001b[K\n",
      "[-        ] process > getIllumination -\u001b[K\n",
      "[-        ] process > getMarkers      -\u001b[K\n",
      "[-        ] process > getParams       -\u001b[K\n",
      "\u001b[5A\n",
      "[-        ] process > getImages       -\u001b[K\n",
      "[-        ] process > getIllumination -\u001b[K\n",
      "[-        ] process > getMarkers      -\u001b[K\n",
      "[-        ] process > getParams       -\u001b[K\n",
      "\u001b[5A\n",
      "[-        ] process > getImages       [  0%] 0 of 3\u001b[K\n",
      "[-        ] process > getIllumination [  0%] 0 of 3\u001b[K\n",
      "[-        ] process > getMarkers      [  0%] 0 of 1\u001b[K\n",
      "[-        ] process > getParams       -\u001b[K\n",
      "\u001b[5A\n",
      "executor >  local (3)\u001b[K\n",
      "[-        ] process > getImages           [  0%] 0 of 3\u001b[K\n",
      "[d4/8e7178] process > getIllumination (1) [  0%] 0 of 3\u001b[K\n",
      "[8e/c622f6] process > getMarkers          [  0%] 0 of 1\u001b[K\n",
      "[-        ] process > getParams           -\u001b[K\n",
      "\u001b[6A\n",
      "executor >  local (4)\u001b[K\n",
      "[43/f7f76b] process > getImages (2)       [  0%] 0 of 3\u001b[K\n",
      "[d4/8e7178] process > getIllumination (1) [  0%] 0 of 3\u001b[K\n",
      "[8e/c622f6] process > getMarkers          [  0%] 0 of 1\u001b[K\n",
      "[-        ] process > getParams           -\u001b[K\n",
      "\u001b[6A\n",
      "executor >  local (7)\u001b[K\n",
      "[f8/a4e6a3] process > getImages (1)       [  0%] 0 of 3\u001b[K\n",
      "[8e/4b88c9] process > getIllumination (3) [  0%] 0 of 3\u001b[K\n",
      "[8e/c622f6] process > getMarkers          [  0%] 0 of 1\u001b[K\n",
      "[-        ] process > getParams           -\u001b[K\n",
      "\u001b[6A\n",
      "executor >  local (7)\u001b[K\n",
      "[f8/a4e6a3] process > getImages (1)       [  0%] 0 of 3\u001b[K\n",
      "[8e/4b88c9] process > getIllumination (3) [  0%] 0 of 3\u001b[K\n",
      "[8e/c622f6] process > getMarkers          [  0%] 0 of 1\u001b[K\n",
      "[-        ] process > getParams           -\u001b[K\n",
      "\u001b[6A\n",
      "executor >  local (7)\u001b[K\n",
      "[f8/a4e6a3] process > getImages (1)       [  0%] 0 of 3\u001b[K\n",
      "[8e/4b88c9] process > getIllumination (3) [  0%] 0 of 3\u001b[K\n",
      "[8e/c622f6] process > getMarkers          [100%] 1 of 1 ✔\u001b[K\n",
      "[-        ] process > getParams           -\u001b[K\n",
      "\u001b[6A\n",
      "executor >  local (7)\u001b[K\n",
      "[eb/10a8bb] process > getImages (3)       [ 33%] 1 of 3\u001b[K\n",
      "[8e/4b88c9] process > getIllumination (3) [  0%] 0 of 3\u001b[K\n",
      "[8e/c622f6] process > getMarkers          [100%] 1 of 1 ✔\u001b[K\n",
      "[-        ] process > getParams           -\u001b[K\n",
      "\u001b[6A\n",
      "executor >  local (7)\u001b[K\n",
      "[eb/10a8bb] process > getImages (3)       [ 33%] 1 of 3\u001b[K\n",
      "[8e/4b88c9] process > getIllumination (3) [ 33%] 1 of 3\u001b[K\n",
      "[8e/c622f6] process > getMarkers          [100%] 1 of 1 ✔\u001b[K\n",
      "[-        ] process > getParams           -\u001b[K\n",
      "\u001b[6A\n",
      "executor >  local (7)\u001b[K\n",
      "[f8/a4e6a3] process > getImages (1)       [ 66%] 2 of 3\u001b[K\n",
      "[8e/4b88c9] process > getIllumination (3) [ 33%] 1 of 3\u001b[K\n",
      "[8e/c622f6] process > getMarkers          [100%] 1 of 1 ✔\u001b[K\n",
      "[-        ] process > getParams           -\u001b[K\n",
      "\u001b[6A\n",
      "executor >  local (7)\u001b[K\n",
      "[f8/a4e6a3] process > getImages (1)       [ 66%] 2 of 3\u001b[K\n",
      "[e8/e90ac9] process > getIllumination (2) [ 66%] 2 of 3\u001b[K\n",
      "[8e/c622f6] process > getMarkers          [100%] 1 of 1 ✔\u001b[K\n",
      "[-        ] process > getParams           -\u001b[K\n",
      "\u001b[6A\n",
      "executor >  local (7)\u001b[K\n",
      "[f8/a4e6a3] process > getImages (1)       [ 66%] 2 of 3\u001b[K\n",
      "[d4/8e7178] process > getIllumination (1) [100%] 3 of 3 ✔\u001b[K\n",
      "[8e/c622f6] process > getMarkers          [100%] 1 of 1 ✔\u001b[K\n",
      "[-        ] process > getParams           -\u001b[K\n",
      "\u001b[6A\n",
      "executor >  local (7)\u001b[K\n",
      "[43/f7f76b] process > getImages (2)       [100%] 3 of 3 ✔\u001b[K\n",
      "[d4/8e7178] process > getIllumination (1) [100%] 3 of 3 ✔\u001b[K\n",
      "[8e/c622f6] process > getMarkers          [100%] 1 of 1 ✔\u001b[K\n",
      "[-        ] process > getParams           -\u001b[K\n",
      "\u001b[32;1mCompleted at: 20-Jun-2024 19:09:31\n",
      "Duration    : 1m 8s\n",
      "CPU hours   : 0.1\n",
      "Succeeded   : 7\n",
      "\u001b[22;39m\u001b[K\n",
      "\n"
     ]
    }
   ],
   "source": [
    "!nextflow run labsyspharm/mcmicro/exemplar.nf --name exemplar-001"
   ]
  },
  {
   "cell_type": "code",
   "execution_count": 5,
   "metadata": {},
   "outputs": [
    {
     "name": "stdout",
     "output_type": "stream",
     "text": [
      "❗ this creates one artifact per file in the directory - you might simply call ln.Artifact(dir) to get one artifact for the entire directory\n"
     ]
    }
   ],
   "source": [
    "mcmicro_input = ln.Artifact.from_dir(\"exemplar-001\")\n",
    "ln.save(mcmicro_input)"
   ]
  },
  {
   "cell_type": "code",
   "execution_count": 6,
   "metadata": {},
   "outputs": [
    {
     "name": "stdout",
     "output_type": "stream",
     "text": [
      "✅ wrote new records from public sources.yaml to /home/zeth/.lamin/bionty/versions/sources_local.yaml!\n",
      "\n",
      "if you see this message repeatedly, run: import bionty_base; bionty_base.reset_sources()\n",
      "✅ closed instance: zethson/nextflow-mcmicro\n"
     ]
    }
   ],
   "source": [
    "!lamin close"
   ]
  }
 ],
 "metadata": {
  "kernelspec": {
   "display_name": "lamindb",
   "language": "python",
   "name": "python3"
  },
  "language_info": {
   "codemirror_mode": {
    "name": "ipython",
    "version": 3
   },
   "file_extension": ".py",
   "mimetype": "text/x-python",
   "name": "python",
   "nbconvert_exporter": "python",
   "pygments_lexer": "ipython3",
   "version": "3.11.7"
  }
 },
 "nbformat": 4,
 "nbformat_minor": 2
}
