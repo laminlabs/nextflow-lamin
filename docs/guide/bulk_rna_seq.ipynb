{
 "cells": [
  {
   "cell_type": "markdown",
   "id": "a1c40541-e05e-48a3-8b50-33baf3d6d0d4",
   "metadata": {},
   "source": [
    "# Track Nextflow workflows"
   ]
  },
  {
   "cell_type": "markdown",
   "id": "cd12ac1a-73e6-44e2-a854-6fa5e52cfd41",
   "metadata": {},
   "source": [
    "[Nextflow](https://www.nextflow.io/) is a workflow management system used for executing scientific workflows across platforms scalably, portably, and reproducibly.\n",
    "\n",
    "The workflow [nf-core rnaseq](https://nf-co.re/rnaseq/3.12.0) is arguably one of the most popular pipelines for bulk RNA sequencing using STAR, RSEM, HISAT2 or Salmon with gene/isoform counts and extensive quality control.\n"
   ]
  },
  {
   "cell_type": "markdown",
   "id": "531093fd-67af-40fd-b481-fbf68828bcfd",
   "metadata": {},
   "source": [
    "## Setup"
   ]
  },
  {
   "cell_type": "markdown",
   "id": "f51e29c1",
   "metadata": {},
   "source": [
    "To run this notebook, you need to load a LaminDB instance that has the `bionty` schema mounted.\n",
    "\n",
    "Here, we’ll create a test instance (skip if you’d like to run it using your instance):"
   ]
  },
  {
   "cell_type": "code",
   "execution_count": null,
   "id": "756e24d7-b2a0-4a10-bf6c-f532e0cc323b",
   "metadata": {
    "tags": [
     "hide-output"
    ]
   },
   "outputs": [],
   "source": [
    "!lamin init --storage . --name nextflow-bulkrna"
   ]
  },
  {
   "cell_type": "code",
   "execution_count": null,
   "id": "3358a50f",
   "metadata": {},
   "outputs": [],
   "source": [
    "import lamindb as ln\n",
    "from pathlib import Path"
   ]
  },
  {
   "cell_type": "markdown",
   "id": "cff2c742",
   "metadata": {},
   "source": [
    "## Download test data"
   ]
  },
  {
   "cell_type": "code",
   "execution_count": null,
   "id": "3f03dc98-c23d-439e-838d-147134470cf7",
   "metadata": {
    "tags": [
     "hide-output"
    ]
   },
   "outputs": [],
   "source": [
    "!git clone https://github.com/nf-core/test-datasets --single-branch --branch rnaseq3 --depth 1"
   ]
  },
  {
   "cell_type": "markdown",
   "id": "be7f913a",
   "metadata": {},
   "source": [
    "To keep track of the download, let's create a \"Download\" transform and a track a run pointing to the reference url:"
   ]
  },
  {
   "cell_type": "code",
   "execution_count": null,
   "id": "7b410782",
   "metadata": {},
   "outputs": [],
   "source": [
    "download = ln.Transform(name=\"Download\")\n",
    "ln.track(\n",
    "    download, reference=\"https://github.com/nf-core/test-datasets\", reference_type=\"url\"\n",
    ")"
   ]
  },
  {
   "cell_type": "markdown",
   "id": "26d980c5",
   "metadata": {},
   "source": [
    "Let's register the files we need from the download, they'll automatically be linked against the download run:"
   ]
  },
  {
   "cell_type": "code",
   "execution_count": null,
   "id": "e80ed3ad-3588-4b47-9720-66fbe7492ffd",
   "metadata": {
    "tags": [
     "hide-output"
    ]
   },
   "outputs": [],
   "source": [
    "input_fastqs_file = ln.File.from_dir(\"test-datasets/testdata/GSE110004/\")\n",
    "ln.save(input_fastqs_file)\n",
    "sample_sheet_file = ln.File(\"test-datasets/samplesheet/v3.10/samplesheet_test.csv\")\n",
    "ln.save(sample_sheet_file)"
   ]
  },
  {
   "cell_type": "markdown",
   "id": "f915ff7a",
   "metadata": {},
   "source": [
    "Let's visualize data lineage for one of the files:"
   ]
  },
  {
   "cell_type": "code",
   "execution_count": null,
   "id": "15c73170",
   "metadata": {},
   "outputs": [],
   "source": [
    "sample_sheet_file.view_lineage()"
   ]
  },
  {
   "cell_type": "markdown",
   "id": "ecb68cf2-1188-4f8b-a2ab-01c60d5779b8",
   "metadata": {},
   "source": [
    "## Track the nf-core rnaseq run"
   ]
  },
  {
   "cell_type": "markdown",
   "id": "3e1224fd",
   "metadata": {},
   "source": [
    "Let's now track the Nextflow workflow:"
   ]
  },
  {
   "cell_type": "code",
   "execution_count": null,
   "id": "05a03bf4-81e5-45b4-a126-002def01f81a",
   "metadata": {},
   "outputs": [],
   "source": [
    "nextflow_bulkrna = ln.Transform(\n",
    "    name=\"nf-core rnaseq\",\n",
    "    version=\"3.11.2\",\n",
    "    type=\"pipeline\",\n",
    "    reference=\"https://github.com/laminlabs/nextflow-lamin-usecases\",\n",
    ")\n",
    "\n",
    "ln.track(nextflow_bulkrna)"
   ]
  },
  {
   "cell_type": "markdown",
   "id": "670533a7",
   "metadata": {},
   "source": [
    "If we now stage input files, they'll be tracked as run inputs (if input data is tracked in the cloud and registered in LaminDB, this is where we'd typcically start):"
   ]
  },
  {
   "cell_type": "code",
   "execution_count": null,
   "id": "27294132",
   "metadata": {
    "tags": [
     "hide-output"
    ]
   },
   "outputs": [],
   "source": [
    "sample_sheet_file.stage()\n",
    "[input_fastq.stage() for input_fastq in input_fastqs_file]"
   ]
  },
  {
   "cell_type": "markdown",
   "id": "17f9905e-0a34-4335-b0c4-eb9b598c8eaf",
   "metadata": {},
   "source": [
    "We'll pass the LaminDB run id to the nextflow run, so that we can easily find it from within Nextflow:"
   ]
  },
  {
   "cell_type": "code",
   "execution_count": null,
   "id": "2219c55e",
   "metadata": {
    "tags": [
     "hide-output"
    ]
   },
   "outputs": [],
   "source": [
    "!nextflow run nf-core/rnaseq -r 3.11.2 -profile test,docker --outdir rna-seq-results -name {ln.dev.run_context.run.id} -resume"
   ]
  },
  {
   "cell_type": "markdown",
   "id": "fb81c953",
   "metadata": {},
   "source": [
    "## Register outputs"
   ]
  },
  {
   "cell_type": "markdown",
   "id": "e02898d4",
   "metadata": {},
   "source": [
    "### QC"
   ]
  },
  {
   "cell_type": "code",
   "execution_count": null,
   "id": "6e7b5f1d-b00b-43d3-bc46-83b14144a8ba",
   "metadata": {
    "tags": []
   },
   "outputs": [],
   "source": [
    "# this would register 240 files, we don't need them here\n",
    "# multiqc_results = ln.File.from_dir(\"rna-seq-results/multiqc/\")\n",
    "# ln.save(multiqc_results)"
   ]
  },
  {
   "cell_type": "code",
   "execution_count": null,
   "id": "7140018a-9ef7-4136-a595-37b514c66a81",
   "metadata": {},
   "outputs": [],
   "source": [
    "multiqc_file = ln.File(\"rna-seq-results/multiqc/star_salmon/multiqc_report.html\")\n",
    "multiqc_file.save()"
   ]
  },
  {
   "cell_type": "markdown",
   "id": "6f107ee9",
   "metadata": {},
   "source": [
    "### Count matrix"
   ]
  },
  {
   "cell_type": "code",
   "execution_count": null,
   "id": "b8ed9118-1fd1-47a7-a825-736f78a7d111",
   "metadata": {},
   "outputs": [],
   "source": [
    "count_matrix = ln.File(\"rna-seq-results/salmon/salmon.merged.gene_counts.tsv\")\n",
    "count_matrix.save()"
   ]
  },
  {
   "cell_type": "markdown",
   "id": "22c88eed-61e0-4d12-96bb-ea4e10f476c0",
   "metadata": {},
   "source": [
    "To make it queryable by biological entities (genes, etc.), we can now proceed with: {doc}`docs:bulkrna`"
   ]
  },
  {
   "cell_type": "markdown",
   "id": "9f607150",
   "metadata": {},
   "source": [
    "## Visualize"
   ]
  },
  {
   "cell_type": "markdown",
   "id": "54595d81",
   "metadata": {},
   "source": [
    "View data lineage:"
   ]
  },
  {
   "cell_type": "code",
   "execution_count": null,
   "id": "ba83bfee-5cb8-4520-9a32-0deccd47ff34",
   "metadata": {},
   "outputs": [],
   "source": [
    "count_matrix.view_lineage()"
   ]
  },
  {
   "cell_type": "markdown",
   "id": "ee3db779",
   "metadata": {},
   "source": [
    "View the database content:"
   ]
  },
  {
   "cell_type": "code",
   "execution_count": null,
   "id": "e45c2584",
   "metadata": {},
   "outputs": [],
   "source": [
    "ln.view()"
   ]
  },
  {
   "cell_type": "markdown",
   "id": "ad06a7e1",
   "metadata": {},
   "source": [
    "Clean up the test instance:"
   ]
  },
  {
   "cell_type": "code",
   "execution_count": null,
   "id": "5f3f95a8",
   "metadata": {
    "tags": [
     "hide-output"
    ]
   },
   "outputs": [],
   "source": [
    "!lamin delete --force nextflow-bulkrna"
   ]
  }
 ],
 "metadata": {
  "kernelspec": {
   "display_name": "Python 3 (ipykernel)",
   "language": "python",
   "name": "python3"
  },
  "language_info": {
   "codemirror_mode": {
    "name": "ipython",
    "version": 3
   },
   "file_extension": ".py",
   "mimetype": "text/x-python",
   "name": "python",
   "nbconvert_exporter": "python",
   "pygments_lexer": "ipython3",
   "version": "3.9.16"
  },
  "nbproject": {
   "id": "8124Vtle6ZrO",
   "parent": null,
   "pypackage": null,
   "time_init": "2023-07-24T13:06:04.795992+00:00",
   "user_handle": null,
   "user_id": null,
   "user_name": null,
   "version": "0"
  }
 },
 "nbformat": 4,
 "nbformat_minor": 5
}
