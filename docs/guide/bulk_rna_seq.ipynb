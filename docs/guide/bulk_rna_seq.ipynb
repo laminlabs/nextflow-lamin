{
 "cells": [
  {
   "cell_type": "markdown",
   "id": "a1c40541-e05e-48a3-8b50-33baf3d6d0d4",
   "metadata": {},
   "source": [
    "# Tracking Bulk RNA-seq Nextflow runs"
   ]
  },
  {
   "cell_type": "markdown",
   "id": "56db6387-dab7-4ee6-84d5-f4750fc43439",
   "metadata": {},
   "source": [
    "## Background"
   ]
  },
  {
   "cell_type": "markdown",
   "id": "cd12ac1a-73e6-44e2-a854-6fa5e52cfd41",
   "metadata": {},
   "source": [
    "[Nextflow](https://www.nextflow.io/) is a workflow management system used for orchestrating and executing scientific workflows across different computational environments. Fundamental features include ease of scalability, portability, and reproducibility, as it allows researchers to define complex workflows in a platform-agnostic manner and run them efficiently on various computing infrastructures.\n",
    "\n",
    "Here, we will demonstrate how to track Nextflow workflow execution and generated biological entities with [lamin](https://lamin.ai/)."
   ]
  },
  {
   "cell_type": "markdown",
   "id": "531093fd-67af-40fd-b481-fbf68828bcfd",
   "metadata": {},
   "source": [
    "## Setup"
   ]
  },
  {
   "cell_type": "markdown",
   "id": "f51e29c1",
   "metadata": {},
   "source": [
    "To run this notebook, you need to load a LaminDB instance that has the `bionty` schema mounted.\n",
    "\n",
    "Here, we’ll create a test instance (skip if you’d like to run it using your instance):"
   ]
  },
  {
   "cell_type": "code",
   "execution_count": null,
   "id": "756e24d7-b2a0-4a10-bf6c-f532e0cc323b",
   "metadata": {},
   "outputs": [],
   "source": [
    "!lamin init --storage ./nextflow_rna_seq --schema bionty"
   ]
  },
  {
   "cell_type": "code",
   "execution_count": null,
   "id": "3358a50f",
   "metadata": {},
   "outputs": [],
   "source": [
    "import lamindb as ln\n",
    "import lnschema_bionty as lb\n",
    "import pandas as pd\n",
    "\n",
    "ln.settings.verbosity = 3  # show hints"
   ]
  },
  {
   "cell_type": "code",
   "execution_count": null,
   "id": "ad2ba7f8",
   "metadata": {},
   "outputs": [],
   "source": [
    "lb.settings.species = \"human\""
   ]
  },
  {
   "cell_type": "markdown",
   "id": "930b938a-497e-4713-89d7-08a02dc825d9",
   "metadata": {},
   "source": [
    "## Fetching and tracking NGS files"
   ]
  },
  {
   "cell_type": "markdown",
   "id": "63c7da79",
   "metadata": {},
   "source": [
    "A pipeline run is fundamentally one set of transformations. Hence, we create a {func}`docs:lamindb.Transform` object using Bionty's lookup for the [nf-core fetchngs](https://nf-co.re/fetchngs) pipeline.\n",
    "`lnschema-bionty` currently does not have a `BFXPipeline` ORM and we therefore access Bionty directly."
   ]
  },
  {
   "cell_type": "code",
   "execution_count": null,
   "id": "0147a103",
   "metadata": {},
   "outputs": [],
   "source": [
    "import bionty as bt\n",
    "\n",
    "bfx_lookup = bt.BFXPipeline().lookup()"
   ]
  },
  {
   "cell_type": "markdown",
   "id": "4e45f9b0",
   "metadata": {},
   "source": [
    "We plan on using Version 1.9. Let's find it with our lookup object..."
   ]
  },
  {
   "cell_type": "code",
   "execution_count": null,
   "id": "c5e57d61",
   "metadata": {},
   "outputs": [],
   "source": [
    "fetch_ngs_1_9 = bfx_lookup.fetchngs_v1_9\n",
    "fetch_ngs_1_9"
   ]
  },
  {
   "cell_type": "markdown",
   "id": "0e898d7e",
   "metadata": {},
   "source": [
    "...and create a {func}`docs:lamindb.Transform` object."
   ]
  },
  {
   "cell_type": "code",
   "execution_count": null,
   "id": "7796216d",
   "metadata": {},
   "outputs": [],
   "source": [
    "fetch_ngs_1_9_transform = ln.Transform(\n",
    "    name=fetch_ngs_1_9.name, version=fetch_ngs_1_9.versions, type=\"pipeline\"\n",
    ").save()"
   ]
  },
  {
   "cell_type": "code",
   "execution_count": null,
   "id": "feeda1ee",
   "metadata": {},
   "outputs": [],
   "source": [
    "ln.track(fetch_ngs_1_9_transform)"
   ]
  },
  {
   "cell_type": "markdown",
   "id": "c089ef95",
   "metadata": {},
   "source": [
    "First, we fetch several FASTQ files using [nf-core fetchngs](https://nf-co.re/fetchngs). For simplicity, we use the `test` profile which has a pre-defined small set of FASTQ files. Later, we'll use them as input for [nf-core rna-seq](https://nf-co.re/rnaseq)."
   ]
  },
  {
   "cell_type": "code",
   "execution_count": null,
   "id": "f5d0fdad",
   "metadata": {},
   "outputs": [],
   "source": [
    "!nextflow run nf-core/fetchngs -r 1.9 --nf_core_pipeline=rnaseq -profile test,docker --outdir fetchngs-results -resume"
   ]
  },
  {
   "cell_type": "code",
   "execution_count": null,
   "id": "018bbd65",
   "metadata": {},
   "outputs": [],
   "source": [
    "!tree fetchngs-results"
   ]
  },
  {
   "cell_type": "markdown",
   "id": "38718c9f",
   "metadata": {},
   "source": [
    "The pipeline run results in several FASTQ files with associated md5 sum files, metadata files, samplesheets, and execution reports. We ingest all files with Lamin."
   ]
  },
  {
   "cell_type": "code",
   "execution_count": null,
   "id": "4277b71e",
   "metadata": {},
   "outputs": [],
   "source": [
    "fetchngs_results = ln.File.from_dir(\"fetchngs-results\")\n",
    "ln.save(fetchngs_results)"
   ]
  },
  {
   "cell_type": "markdown",
   "id": "45f11b8a-15ab-40ee-ba44-6f3bdf82da74",
   "metadata": {},
   "source": [
    "Now that all output files or our run are ingested, we can access them easily and work with them.\n",
    "Lamin tracks data lineage:"
   ]
  },
  {
   "cell_type": "code",
   "execution_count": null,
   "id": "49990b2b-b5b8-4947-852a-9501580c3679",
   "metadata": {},
   "outputs": [],
   "source": [
    "execution_report_file = ln.File.select(key__icontains=\"execution_report\").one()\n",
    "execution_report_file.view_lineage()"
   ]
  },
  {
   "cell_type": "markdown",
   "id": "54ffd189-3a60-41fe-9012-a4d652a053e7",
   "metadata": {},
   "source": [
    "We cna now easily examine for example the execution report:"
   ]
  },
  {
   "cell_type": "code",
   "execution_count": null,
   "id": "00f0344d",
   "metadata": {},
   "outputs": [],
   "source": [
    "import shutil\n",
    "from IPython.display import IFrame\n",
    "\n",
    "# Copying file to a directory accessible by the IPython Tornado web server\n",
    "shutil.copy(execution_report_file.stage(), \"./execution_report.html\")\n",
    "IFrame(src=\"execution_report.html\", width=1000, height=600)"
   ]
  },
  {
   "cell_type": "markdown",
   "id": "bd8e1fdf-74d1-4143-b2d4-3b9c19a8042a",
   "metadata": {},
   "source": [
    "Alternatively, we can calculate various metrics of interest for the downloaded FASTQ files."
   ]
  },
  {
   "cell_type": "code",
   "execution_count": null,
   "id": "50fe0fd1-c126-462f-b016-40fc6cf40a0d",
   "metadata": {},
   "outputs": [],
   "source": [
    "a_fastq_file = ln.File.select(\n",
    "    key__icontains=\"fetchngs-results/fastq\", suffix=\".fastq.gz\"\n",
    ").first()\n",
    "a_fastq_file"
   ]
  },
  {
   "cell_type": "code",
   "execution_count": null,
   "id": "2e9ea398-e871-4e04-a55e-85bd619caad4",
   "metadata": {},
   "outputs": [],
   "source": [
    "import gzip\n",
    "from Bio import SeqIO\n",
    "\n",
    "total_gc_count = total_bases = 0\n",
    "\n",
    "with gzip.open(a_fastq_file.stage(), \"rt\") as handle:\n",
    "    for record in SeqIO.parse(handle, \"fastq\"):\n",
    "        sequence = str(record.seq)\n",
    "        gc_count = sequence.count(\"G\") + sequence.count(\"C\")\n",
    "        total_gc_count += gc_count\n",
    "        total_bases += len(sequence)\n",
    "\n",
    "total_gc_content = (total_gc_count / total_bases) * 100\n",
    "\n",
    "print(f\"Total GC Content: {total_gc_content:.2f}%\")"
   ]
  },
  {
   "cell_type": "code",
   "execution_count": null,
   "id": "03a99b62-665b-41a6-bed6-521dd7179318",
   "metadata": {},
   "outputs": [],
   "source": [
    "a_fastq_file.view_lineage()"
   ]
  },
  {
   "cell_type": "markdown",
   "id": "ecb68cf2-1188-4f8b-a2ab-01c60d5779b8",
   "metadata": {},
   "source": [
    "## Analysing raw FASTQ files and generating a count table"
   ]
  },
  {
   "cell_type": "markdown",
   "id": "3e1224fd",
   "metadata": {},
   "source": [
    "[nf-core rna-seq](https://nf-co.re/rnaseq/3.12.0) is arguably one of the most popular pipelines for bulk RNA sequencing using STAR, RSEM, HISAT2 or Salmon with gene/isoform counts and extensive quality control.\n",
    "\n",
    "First, we create a new Transform object for our pipeline run."
   ]
  },
  {
   "cell_type": "code",
   "execution_count": null,
   "id": "776cb670-b36c-43c2-93c2-b5bab5dc595e",
   "metadata": {},
   "outputs": [],
   "source": [
    "rna_seq_3_11_2 = bfx_lookup.rnaseq_v3_11_2\n",
    "rna_seq_3_11_2"
   ]
  },
  {
   "cell_type": "code",
   "execution_count": null,
   "id": "05a03bf4-81e5-45b4-a126-002def01f81a",
   "metadata": {},
   "outputs": [],
   "source": [
    "rna_seq_3_11_2_transform = ln.Transform(\n",
    "    name=rna_seq_3_11_2.name, version=rna_seq_3_11_2.versions, type=\"pipeline\"\n",
    ").save()"
   ]
  },
  {
   "cell_type": "code",
   "execution_count": null,
   "id": "e2344c38-d2ea-4545-914d-4f27e79a1599",
   "metadata": {},
   "outputs": [],
   "source": [
    "ln.track(rna_seq_3_11_2_transform)"
   ]
  },
  {
   "cell_type": "markdown",
   "id": "17f9905e-0a34-4335-b0c4-eb9b598c8eaf",
   "metadata": {},
   "source": [
    "Next, we run the pipeline with its test dataset and track output files and features with Lamin."
   ]
  },
  {
   "cell_type": "code",
   "execution_count": null,
   "id": "2219c55e",
   "metadata": {},
   "outputs": [],
   "source": [
    "!nextflow run nf-core/rnaseq -r 3.11.2 -profile test,docker --outdir rna-seq-results -resume"
   ]
  },
  {
   "cell_type": "markdown",
   "id": "a56e8a22-94dd-413b-989d-f13f59addbe6",
   "metadata": {},
   "source": [
    "As a first step, we ingest all results from the pipeline run."
   ]
  },
  {
   "cell_type": "code",
   "execution_count": null,
   "id": "6e7b5f1d-b00b-43d3-bc46-83b14144a8ba",
   "metadata": {},
   "outputs": [],
   "source": [
    "multiqc_results = ln.File.from_dir(\"rna-seq-results/multiqc/\")\n",
    "ln.save(multiqc_results)"
   ]
  },
  {
   "cell_type": "code",
   "execution_count": null,
   "id": "7140018a-9ef7-4136-a595-37b514c66a81",
   "metadata": {},
   "outputs": [],
   "source": [
    "multiqc_file = ln.File.select(key__icontains=\"multiqc_report.html\").one()\n",
    "multiqc_file"
   ]
  },
  {
   "cell_type": "markdown",
   "id": "8e3813b0-d2c8-4126-bc96-a0fd68cc8b98",
   "metadata": {},
   "source": [
    "Let's examine the multiqc report:"
   ]
  },
  {
   "cell_type": "code",
   "execution_count": null,
   "id": "48361e66-f50b-45d6-ae6a-1d6c24426d81",
   "metadata": {},
   "outputs": [],
   "source": [
    "import shutil\n",
    "from IPython.display import IFrame\n",
    "\n",
    "# Copying file to a directory accessible by the IPython Tornado web server\n",
    "shutil.copy(multiqc_file.stage(), \"./multiqc_report.html\")\n",
    "IFrame(src=\"multiqc_report.html\", width=1000, height=600)"
   ]
  },
  {
   "cell_type": "markdown",
   "id": "29bae36c-dac6-4314-b85b-f3afd7e47fbd",
   "metadata": {},
   "source": [
    "We further ingest the merged Salmon gene counts since we plan on working further with the count table:"
   ]
  },
  {
   "cell_type": "code",
   "execution_count": null,
   "id": "c1a58047-0c25-4632-b355-69610c6176f3",
   "metadata": {},
   "outputs": [],
   "source": [
    "salmon_gene_table = ln.File(\"rna-seq-results/salmon/salmon.merged.gene_counts.tsv\")\n",
    "ln.save(salmon_gene_table)"
   ]
  },
  {
   "cell_type": "code",
   "execution_count": null,
   "id": "4f8680e2-7c58-4822-94dd-f3ee0caeb5bc",
   "metadata": {},
   "outputs": [],
   "source": [
    "gene_counts_df = pd.read_csv(salmon_gene_table.stage(), sep=\"\\t\")"
   ]
  },
  {
   "cell_type": "code",
   "execution_count": null,
   "id": "ea397f4a-7edc-496d-ac20-fe89c5e48bc0",
   "metadata": {},
   "outputs": [],
   "source": [
    "print(f\"Number of genes: {len(gene_counts_df)}\")\n",
    "print(\n",
    "    f\"Number of samples: {len(gene_counts_df.columns) - 1}\"\n",
    ")  # Subtract 1 to exclude the gene column\n",
    "print(f\"Mean expression: {gene_counts_df.iloc[:, 2:].mean()}\")\n",
    "print(f\"Median expression: {gene_counts_df.iloc[:, 2:].median()}\")\n",
    "print(f\"Expression variance: {gene_counts_df.iloc[:, 2:].var()}\")"
   ]
  },
  {
   "cell_type": "code",
   "execution_count": null,
   "id": "0dad135a-4b32-4902-95ff-4585c2ab99dc",
   "metadata": {},
   "outputs": [],
   "source": [
    "feature_set_genes = ln.FeatureSet.from_values(\n",
    "    gene_counts_df[\"gene_name\"], lb.Gene.symbol\n",
    ")\n",
    "feature_set_genes.save()\n",
    "salmon_gene_table.feature_sets.add(feature_set_genes)"
   ]
  },
  {
   "cell_type": "markdown",
   "id": "b0bfe4f5-5566-423d-9a1e-6796c8f98a77",
   "metadata": {},
   "source": [
    "The dataset contains yeast samples and our species is set to human. Hence, a lot of gene records are being created. Bionty will soon also support yeast genes."
   ]
  },
  {
   "cell_type": "markdown",
   "id": "58c6a407-1e87-4241-98e5-b069be057ea7",
   "metadata": {},
   "source": [
    "## Conclusion"
   ]
  },
  {
   "cell_type": "markdown",
   "id": "8bba6911-70b6-4a99-a95e-6c9659435af6",
   "metadata": {},
   "source": [
    "TODO"
   ]
  },
  {
   "cell_type": "code",
   "execution_count": null,
   "id": "de2f1c9c-d00c-42ff-801f-7d95f6eb9d9b",
   "metadata": {},
   "outputs": [],
   "source": []
  }
 ],
 "metadata": {
  "kernelspec": {
   "display_name": "Python 3 (ipykernel)",
   "language": "python",
   "name": "python3"
  },
  "language_info": {
   "codemirror_mode": {
    "name": "ipython",
    "version": 3
   },
   "file_extension": ".py",
   "mimetype": "text/x-python",
   "name": "python",
   "nbconvert_exporter": "python",
   "pygments_lexer": "ipython3",
   "version": "3.10.12"
  },
  "nbproject": {
   "id": "8124Vtle6ZrO",
   "parent": null,
   "pypackage": null,
   "time_init": "2023-07-24T13:06:04.795992+00:00",
   "user_handle": null,
   "user_id": null,
   "user_name": null,
   "version": "0"
  }
 },
 "nbformat": 4,
 "nbformat_minor": 5
}
