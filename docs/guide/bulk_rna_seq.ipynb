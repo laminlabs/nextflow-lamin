{
 "cells": [
  {
   "cell_type": "markdown",
   "id": "a1c40541-e05e-48a3-8b50-33baf3d6d0d4",
   "metadata": {},
   "source": [
    "# Track Nextflow workflows"
   ]
  },
  {
   "cell_type": "markdown",
   "id": "cd12ac1a-73e6-44e2-a854-6fa5e52cfd41",
   "metadata": {},
   "source": [
    "[Nextflow](https://www.nextflow.io/) is a workflow management system used for executing scientific workflows across platforms scalably, portably, and reproducibly.\n",
    "\n",
    "Here, we'll run `nf-core/rnaseq` to process `.fastq` files from bulk RNA sequencing using STAR, RSEM, HISAT2, Salmon with gene/isoform counts and extensive quality control ([reference](https://nf-co.re/rnaseq/3.12.0)).\n",
    "\n",
    "![](https://raw.githubusercontent.com/nf-core/rnaseq/3.12.0//docs/images/nf-core-rnaseq_metro_map_grey.png)\n"
   ]
  },
  {
   "cell_type": "markdown",
   "id": "b7c8e52d",
   "metadata": {},
   "source": [
    "Let's create a test instance:"
   ]
  },
  {
   "cell_type": "code",
   "execution_count": null,
   "id": "756e24d7-b2a0-4a10-bf6c-f532e0cc323b",
   "metadata": {
    "tags": [
     "hide-output"
    ]
   },
   "outputs": [],
   "source": [
    "!lamin init --storage . --name nextflow-bulkrna"
   ]
  },
  {
   "cell_type": "code",
   "execution_count": null,
   "id": "3358a50f",
   "metadata": {},
   "outputs": [],
   "source": [
    "import lamindb as ln"
   ]
  },
  {
   "cell_type": "markdown",
   "id": "cff2c742",
   "metadata": {},
   "source": [
    "## Download test data"
   ]
  },
  {
   "cell_type": "markdown",
   "id": "4f32ae96",
   "metadata": {},
   "source": [
    "Download test data using git:"
   ]
  },
  {
   "cell_type": "code",
   "execution_count": null,
   "id": "3f03dc98-c23d-439e-838d-147134470cf7",
   "metadata": {
    "tags": [
     "hide-output"
    ]
   },
   "outputs": [],
   "source": [
    "!git clone https://github.com/nf-core/test-datasets --single-branch --branch rnaseq3 --depth 1"
   ]
  },
  {
   "cell_type": "markdown",
   "id": "be7f913a",
   "metadata": {},
   "source": [
    "Track the download:"
   ]
  },
  {
   "cell_type": "code",
   "execution_count": null,
   "id": "7b410782",
   "metadata": {},
   "outputs": [],
   "source": [
    "download = ln.Transform(name=\"Download\")\n",
    "download_url = \"https://github.com/nf-core/test-datasets\"\n",
    "ln.track(download, reference=download_url, reference_type=\"url\")"
   ]
  },
  {
   "cell_type": "markdown",
   "id": "26d980c5",
   "metadata": {},
   "source": [
    "Register input files - they'll automatically be linked against the download run:"
   ]
  },
  {
   "cell_type": "code",
   "execution_count": null,
   "id": "e80ed3ad-3588-4b47-9720-66fbe7492ffd",
   "metadata": {
    "tags": [
     "hide-output"
    ]
   },
   "outputs": [],
   "source": [
    "sample_sheet = ln.File(\"test-datasets/samplesheet/v3.10/samplesheet_test.csv\")\n",
    "ln.save(sample_sheet)\n",
    "input_fastqs = ln.File.from_dir(\"test-datasets/testdata/GSE110004/\")\n",
    "ln.save(input_fastqs)"
   ]
  },
  {
   "cell_type": "markdown",
   "id": "f915ff7a",
   "metadata": {},
   "source": [
    "Visualize data lineage for one of the files:"
   ]
  },
  {
   "cell_type": "code",
   "execution_count": null,
   "id": "15c73170",
   "metadata": {},
   "outputs": [],
   "source": [
    "sample_sheet.view_lineage()"
   ]
  },
  {
   "cell_type": "markdown",
   "id": "ecb68cf2-1188-4f8b-a2ab-01c60d5779b8",
   "metadata": {},
   "source": [
    "## Track the Nextflow run"
   ]
  },
  {
   "cell_type": "markdown",
   "id": "3b698d87",
   "metadata": {},
   "source": [
    "(We'd start here if input files were tracked in the cloud with LaminDB rather than downloaded through git.)"
   ]
  },
  {
   "cell_type": "markdown",
   "id": "3e1224fd",
   "metadata": {},
   "source": [
    "Track the Nextflow pipeline & run:"
   ]
  },
  {
   "cell_type": "code",
   "execution_count": null,
   "id": "05a03bf4-81e5-45b4-a126-002def01f81a",
   "metadata": {},
   "outputs": [],
   "source": [
    "nextflow_bulkrna = ln.Transform(\n",
    "    name=\"nf-core rnaseq\",\n",
    "    version=\"3.11.2\",\n",
    "    type=\"pipeline\",\n",
    "    reference=\"https://github.com/laminlabs/nextflow-lamin-usecases\",\n",
    ")\n",
    "ln.track(nextflow_bulkrna)"
   ]
  },
  {
   "cell_type": "markdown",
   "id": "670533a7",
   "metadata": {},
   "source": [
    "If we now stage input files, they'll be tracked as run inputs.\n",
    "\n",
    "(As data is already locally available in this test case, staging won't download anything.)"
   ]
  },
  {
   "cell_type": "code",
   "execution_count": null,
   "id": "27294132",
   "metadata": {
    "tags": [
     "hide-output"
    ]
   },
   "outputs": [],
   "source": [
    "sample_sheet.stage()\n",
    "[input_fastq.stage() for input_fastq in input_fastqs]"
   ]
  },
  {
   "cell_type": "markdown",
   "id": "17f9905e-0a34-4335-b0c4-eb9b598c8eaf",
   "metadata": {},
   "source": [
    "All data is now in place and we can run the nextflow pipeline:"
   ]
  },
  {
   "cell_type": "code",
   "execution_count": null,
   "id": "2219c55e",
   "metadata": {
    "tags": [
     "hide-output"
    ]
   },
   "outputs": [],
   "source": [
    "!nextflow run nf-core/rnaseq -r 3.11.2 -profile test,docker --outdir rna-seq-results -name {ln.dev.run_context.run.id}"
   ]
  },
  {
   "cell_type": "markdown",
   "id": "58eea7fc",
   "metadata": {},
   "source": [
    "Here, we passed the LaminDB run id to nextflow so that we can query it from within nextflow."
   ]
  },
  {
   "cell_type": "markdown",
   "id": "fb81c953",
   "metadata": {},
   "source": [
    "## Register outputs"
   ]
  },
  {
   "cell_type": "markdown",
   "id": "e02898d4",
   "metadata": {},
   "source": [
    "### QC"
   ]
  },
  {
   "cell_type": "code",
   "execution_count": null,
   "id": "7140018a-9ef7-4136-a595-37b514c66a81",
   "metadata": {},
   "outputs": [],
   "source": [
    "multiqc_file = ln.File(\"rna-seq-results/multiqc/star_salmon/multiqc_report.html\")\n",
    "multiqc_file.save()"
   ]
  },
  {
   "cell_type": "markdown",
   "id": "a588717f",
   "metadata": {},
   "source": [
    ":::{dropdown} How would I register all QC files?\n",
    "\n",
    "```python\n",
    "multiqc_results = ln.File.from_dir(\"rna-seq-results/multiqc/\")\n",
    "ln.save(multiqc_results)\n",
    "```\n",
    "\n",
    ":::"
   ]
  },
  {
   "cell_type": "markdown",
   "id": "6f107ee9",
   "metadata": {},
   "source": [
    "### Count matrix"
   ]
  },
  {
   "cell_type": "code",
   "execution_count": null,
   "id": "b8ed9118-1fd1-47a7-a825-736f78a7d111",
   "metadata": {},
   "outputs": [],
   "source": [
    "count_matrix = ln.File(\"rna-seq-results/salmon/salmon.merged.gene_counts.tsv\")\n",
    "count_matrix.save()"
   ]
  },
  {
   "cell_type": "markdown",
   "id": "dd98074b",
   "metadata": {},
   "source": [
    "## Link biological entities"
   ]
  },
  {
   "cell_type": "markdown",
   "id": "22c88eed-61e0-4d12-96bb-ea4e10f476c0",
   "metadata": {},
   "source": [
    "To make the count matrix queryable by biological entities (genes, experimental metadata, etc.), we can now proceed with: {doc}`docs:bulkrna`"
   ]
  },
  {
   "cell_type": "markdown",
   "id": "429bf863",
   "metadata": {},
   "source": [
    "## Register the Nextflow execution id\n",
    "\n",
    "If we want to be able to query LaminDB for Nextflow execution ID, this here is a way to get it:"
   ]
  },
  {
   "cell_type": "code",
   "execution_count": null,
   "id": "4c14e053",
   "metadata": {},
   "outputs": [],
   "source": [
    "import subprocess\n",
    "\n",
    "command = f\"nextflow log | grep -F '{ln.dev.run_context.run.id}' | awk '{{print $8}}'\"\n",
    "session_id = subprocess.getoutput(command)\n",
    "\n",
    "run = ln.Run.filter(transform__name=\"nf-core rnaseq\").order_by(\"-run_at\").first()\n",
    "run.reference = session_id\n",
    "run.reference_type = \"nextflow_id\"\n",
    "run.save()"
   ]
  },
  {
   "cell_type": "markdown",
   "id": "9f607150",
   "metadata": {},
   "source": [
    "## Visualize"
   ]
  },
  {
   "cell_type": "markdown",
   "id": "54595d81",
   "metadata": {},
   "source": [
    "View data lineage:"
   ]
  },
  {
   "cell_type": "code",
   "execution_count": null,
   "id": "ba83bfee-5cb8-4520-9a32-0deccd47ff34",
   "metadata": {},
   "outputs": [],
   "source": [
    "count_matrix.view_lineage()"
   ]
  },
  {
   "cell_type": "markdown",
   "id": "ee3db779",
   "metadata": {},
   "source": [
    "View the database content:"
   ]
  },
  {
   "cell_type": "code",
   "execution_count": null,
   "id": "e45c2584",
   "metadata": {},
   "outputs": [],
   "source": [
    "ln.view()"
   ]
  },
  {
   "cell_type": "markdown",
   "id": "ad06a7e1",
   "metadata": {},
   "source": [
    "Clean up the test instance:"
   ]
  },
  {
   "cell_type": "code",
   "execution_count": null,
   "id": "5f3f95a8",
   "metadata": {
    "tags": [
     "hide-output"
    ]
   },
   "outputs": [],
   "source": [
    "!lamin delete --force nextflow-bulkrna"
   ]
  }
 ],
 "metadata": {
  "kernelspec": {
   "display_name": "Python 3 (ipykernel)",
   "language": "python",
   "name": "python3"
  },
  "language_info": {
   "codemirror_mode": {
    "name": "ipython",
    "version": 3
   },
   "file_extension": ".py",
   "mimetype": "text/x-python",
   "name": "python",
   "nbconvert_exporter": "python",
   "pygments_lexer": "ipython3",
   "version": "3.10.12"
  },
  "nbproject": {
   "id": "8124Vtle6ZrO",
   "parent": null,
   "pypackage": null,
   "time_init": "2023-07-24T13:06:04.795992+00:00",
   "user_handle": null,
   "user_id": null,
   "user_name": null,
   "version": "0"
  }
 },
 "nbformat": 4,
 "nbformat_minor": 5
}
