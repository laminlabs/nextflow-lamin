{
 "cells": [
  {
   "cell_type": "markdown",
   "id": "a1c40541-e05e-48a3-8b50-33baf3d6d0d4",
   "metadata": {},
   "source": [
    "# Tracking Bulk RNA-seq Nextflow runs"
   ]
  },
  {
   "cell_type": "markdown",
   "id": "56db6387-dab7-4ee6-84d5-f4750fc43439",
   "metadata": {},
   "source": [
    "## Background"
   ]
  },
  {
   "cell_type": "markdown",
   "id": "cd12ac1a-73e6-44e2-a854-6fa5e52cfd41",
   "metadata": {},
   "source": [
    "[Nextflow](https://www.nextflow.io/) is a workflow management system used for orchestrating and executing scientific workflows across different computational environments. Fundamental features include ease of scalability, portability, and reproducibility, as it allows researchers to define complex workflows in a platform-agnostic manner and run them efficiently on various computing infrastructures.\n",
    "\n",
    "While Nextflow together with nf-tower focuses on executing reproducible and trackable bioinformatics pipelines, LaminDB offers a provenance-aware data lake.\n",
    "\n",
    "Here, we will demonstrate how to track Nextflow workflow execution and generated biological entities with [lamin](https://lamin.ai/)."
   ]
  },
  {
   "cell_type": "markdown",
   "id": "531093fd-67af-40fd-b481-fbf68828bcfd",
   "metadata": {},
   "source": [
    "## Setup"
   ]
  },
  {
   "cell_type": "markdown",
   "id": "f51e29c1",
   "metadata": {},
   "source": [
    "To run this notebook, you need to load a LaminDB instance that has the `bionty` schema mounted.\n",
    "\n",
    "Here, we’ll create a test instance (skip if you’d like to run it using your instance):"
   ]
  },
  {
   "cell_type": "code",
   "execution_count": null,
   "id": "756e24d7-b2a0-4a10-bf6c-f532e0cc323b",
   "metadata": {},
   "outputs": [],
   "source": [
    "!lamin init --storage ./nextflow_rna_seq --schema bionty"
   ]
  },
  {
   "cell_type": "code",
   "execution_count": null,
   "id": "3358a50f",
   "metadata": {},
   "outputs": [],
   "source": [
    "import lamindb as ln\n",
    "import lnschema_bionty as lb\n",
    "import pandas as pd\n",
    "import os\n",
    "import anndata as ad\n",
    "from pathlib import Path\n",
    "\n",
    "ln.settings.verbosity = 3  # show hints"
   ]
  },
  {
   "cell_type": "code",
   "execution_count": null,
   "id": "ad2ba7f8",
   "metadata": {},
   "outputs": [],
   "source": [
    "lb.settings.species = \"saccharomyces cerevisiae\""
   ]
  },
  {
   "cell_type": "markdown",
   "id": "ecb68cf2-1188-4f8b-a2ab-01c60d5779b8",
   "metadata": {},
   "source": [
    "## Tracking nf-core rnaseq"
   ]
  },
  {
   "cell_type": "markdown",
   "id": "3e1224fd",
   "metadata": {},
   "source": [
    "The Nextflow pipeline [nf-core rnaseq](https://nf-co.re/rnaseq/3.12.0) is arguably one of the most popular pipelines for bulk RNA sequencing using STAR, RSEM, HISAT2 or Salmon with gene/isoform counts and extensive quality control.\n",
    "\n",
    "First, we create a new Transform object for our pipeline run."
   ]
  },
  {
   "cell_type": "code",
   "execution_count": null,
   "id": "05a03bf4-81e5-45b4-a126-002def01f81a",
   "metadata": {},
   "outputs": [],
   "source": [
    "rna_seq_transform = ln.Transform(\n",
    "    name=\"nf-core rnaseq\",\n",
    "    version=\"3.11.2\",\n",
    "    type=\"pipeline\",\n",
    "    reference=\"https://github.com/laminlabs/nextflow-lamin-usecases/\",\n",
    ").save()"
   ]
  },
  {
   "cell_type": "code",
   "execution_count": null,
   "id": "e2344c38-d2ea-4545-914d-4f27e79a1599",
   "metadata": {},
   "outputs": [],
   "source": [
    "ln.track(rna_seq_transform)"
   ]
  },
  {
   "cell_type": "markdown",
   "id": "b20dbc7d-0e75-4b06-8f7a-d540bffbdb44",
   "metadata": {},
   "source": [
    "We download the [test data](https://github.com/nf-core/test-datasets/tree/rnaseq3) for the pipeline which we track with Lamin."
   ]
  },
  {
   "cell_type": "code",
   "execution_count": null,
   "id": "3f03dc98-c23d-439e-838d-147134470cf7",
   "metadata": {},
   "outputs": [],
   "source": [
    "%%capture command\n",
    "!git clone https://github.com/nf-core/test-datasets --single-branch --branch rnaseq3"
   ]
  },
  {
   "cell_type": "code",
   "execution_count": null,
   "id": "e80ed3ad-3588-4b47-9720-66fbe7492ffd",
   "metadata": {},
   "outputs": [],
   "source": [
    "input_fastqs_file = ln.File.from_dir(\"test-datasets/testdata/GSE110004/\")\n",
    "sample_sheet_file = ln.File(\"test-datasets/samplesheet/v3.10/samplesheet_test.csv\")\n",
    "ln.save(input_fastqs_file)\n",
    "ln.save(sample_sheet_file)"
   ]
  },
  {
   "cell_type": "markdown",
   "id": "9085a716-cbc9-44dc-8d45-86f83dd7f80a",
   "metadata": {},
   "source": [
    "Let’s set the input files for our run"
   ]
  },
  {
   "cell_type": "code",
   "execution_count": null,
   "id": "82e03a05-8654-428e-b8a1-ce50f8708cfd",
   "metadata": {},
   "outputs": [],
   "source": [
    "run = ln.Run.filter(created_by_id=\"DzTjkKse\").one()\n",
    "run"
   ]
  },
  {
   "cell_type": "code",
   "execution_count": null,
   "id": "fac3ebd4-4ab3-400a-ae2a-40a31a4b7e5c",
   "metadata": {},
   "outputs": [],
   "source": [
    "run.input_files.set(input_fastqs_file)\n",
    "run.reference = \"lamin_rnaseq\"\n",
    "run.reference_type = \"nextflow_name\""
   ]
  },
  {
   "cell_type": "markdown",
   "id": "7c00edf5-fa14-4e21-b1ab-cc4ac5c24a98",
   "metadata": {},
   "source": [
    "To sync the workflow execution name with Lamin, we export it as an environment variable."
   ]
  },
  {
   "cell_type": "code",
   "execution_count": null,
   "id": "a923a34c-f3a0-40cc-af95-2c7e958d8e4a",
   "metadata": {},
   "outputs": [],
   "source": [
    "os.environ[\"LAMINDB_RUN_ID\"] = run.reference"
   ]
  },
  {
   "cell_type": "markdown",
   "id": "17f9905e-0a34-4335-b0c4-eb9b598c8eaf",
   "metadata": {},
   "source": [
    "Next, we run the pipeline with its test dataset and track output files and features with Lamin."
   ]
  },
  {
   "cell_type": "code",
   "execution_count": null,
   "id": "2219c55e",
   "metadata": {},
   "outputs": [],
   "source": [
    "%%capture command\n",
    "!nextflow run nf-core/rnaseq -r 3.11.2 -profile test,docker --outdir rna-seq-results -name $LAMINDB_RUN_ID -resume"
   ]
  },
  {
   "cell_type": "markdown",
   "id": "a56e8a22-94dd-413b-989d-f13f59addbe6",
   "metadata": {},
   "source": [
    "As a first step, we ingest all results from the pipeline run."
   ]
  },
  {
   "cell_type": "code",
   "execution_count": null,
   "id": "6e7b5f1d-b00b-43d3-bc46-83b14144a8ba",
   "metadata": {},
   "outputs": [],
   "source": [
    "multiqc_results = ln.File.from_dir(\"rna-seq-results/multiqc/\", run=run)\n",
    "ln.save(multiqc_results)"
   ]
  },
  {
   "cell_type": "code",
   "execution_count": null,
   "id": "7140018a-9ef7-4136-a595-37b514c66a81",
   "metadata": {},
   "outputs": [],
   "source": [
    "multiqc_file = ln.File.select(key__icontains=\"multiqc_report.html\").one()\n",
    "multiqc_file"
   ]
  },
  {
   "cell_type": "markdown",
   "id": "8e3813b0-d2c8-4126-bc96-a0fd68cc8b98",
   "metadata": {},
   "source": [
    "Let's examine the multiqc report:"
   ]
  },
  {
   "cell_type": "code",
   "execution_count": null,
   "id": "48361e66-f50b-45d6-ae6a-1d6c24426d81",
   "metadata": {},
   "outputs": [],
   "source": [
    "import shutil\n",
    "from IPython.display import IFrame\n",
    "\n",
    "# Copying file to a directory accessible by the IPython Tornado web server\n",
    "shutil.copy(multiqc_file.stage(), \"./multiqc_report\")\n",
    "IFrame(src=\"multiqc_report\", width=1000, height=600)"
   ]
  },
  {
   "cell_type": "markdown",
   "id": "29bae36c-dac6-4314-b85b-f3afd7e47fbd",
   "metadata": {},
   "source": [
    "We further ingest the merged Salmon gene counts since we plan on working further with the count table:"
   ]
  },
  {
   "cell_type": "code",
   "execution_count": null,
   "id": "b8ed9118-1fd1-47a7-a825-736f78a7d111",
   "metadata": {},
   "outputs": [],
   "source": [
    "salmon_gene_counts_table_df = pd.read_csv(\n",
    "    \"rna-seq-results/salmon/salmon.merged.gene_counts.tsv\", sep=\"\\t\"\n",
    ")"
   ]
  },
  {
   "cell_type": "markdown",
   "id": "22c88eed-61e0-4d12-96bb-ea4e10f476c0",
   "metadata": {},
   "source": [
    "We curate the count table analogously to {doc}`docs:/bulkrna`."
   ]
  },
  {
   "cell_type": "code",
   "execution_count": null,
   "id": "5b0ca2da-8bff-4750-972d-3f1c0cdb28e8",
   "metadata": {},
   "outputs": [],
   "source": [
    "salmon_gene_counts_table_df = salmon_gene_counts_table_df.T\n",
    "var = pd.DataFrame(\n",
    "    {\"gene_name\": salmon_gene_counts_table_df.loc[\"gene_name\"].values},\n",
    "    index=salmon_gene_counts_table_df.loc[\"gene_id\"],\n",
    ")\n",
    "adata = ad.AnnData(salmon_gene_counts_table_df.iloc[2:].astype(\"float32\"), var=var)"
   ]
  },
  {
   "cell_type": "code",
   "execution_count": null,
   "id": "c1a58047-0c25-4632-b355-69610c6176f3",
   "metadata": {},
   "outputs": [],
   "source": [
    "curated_salmon_gene_counts_file = ln.File.from_anndata(\n",
    "    adata, description=\"Curated bulk RNA counts\", var_ref=lb.Gene.stable_id, run=run\n",
    ")\n",
    "ln.save(curated_salmon_gene_counts_file)"
   ]
  },
  {
   "cell_type": "code",
   "execution_count": null,
   "id": "ba83bfee-5cb8-4520-9a32-0deccd47ff34",
   "metadata": {},
   "outputs": [],
   "source": [
    "curated_salmon_gene_counts_file.describe()"
   ]
  },
  {
   "cell_type": "markdown",
   "id": "58c6a407-1e87-4241-98e5-b069be057ea7",
   "metadata": {},
   "source": [
    "## Conclusion"
   ]
  },
  {
   "cell_type": "markdown",
   "id": "8bba6911-70b6-4a99-a95e-6c9659435af6",
   "metadata": {},
   "source": [
    "Lamin makes it easy to track pipeline executions and to ingest input and output files that can subsequently be used for advanced downstream analyses. This is complementary to nf-tower."
   ]
  }
 ],
 "metadata": {
  "kernelspec": {
   "display_name": "Python 3 (ipykernel)",
   "language": "python",
   "name": "python3"
  },
  "language_info": {
   "codemirror_mode": {
    "name": "ipython",
    "version": 3
   },
   "file_extension": ".py",
   "mimetype": "text/x-python",
   "name": "python",
   "nbconvert_exporter": "python",
   "pygments_lexer": "ipython3",
   "version": "3.10.12"
  },
  "nbproject": {
   "id": "8124Vtle6ZrO",
   "parent": null,
   "pypackage": null,
   "time_init": "2023-07-24T13:06:04.795992+00:00",
   "user_handle": null,
   "user_id": null,
   "user_name": null,
   "version": "0"
  }
 },
 "nbformat": 4,
 "nbformat_minor": 5
}
