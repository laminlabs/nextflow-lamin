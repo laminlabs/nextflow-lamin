{
 "cells": [
  {
   "cell_type": "markdown",
   "id": "a1c40541-e05e-48a3-8b50-33baf3d6d0d4",
   "metadata": {},
   "source": [
    "# Tracking Bulk RNA-seq Nextflow runs"
   ]
  },
  {
   "cell_type": "markdown",
   "id": "cd12ac1a-73e6-44e2-a854-6fa5e52cfd41",
   "metadata": {},
   "source": [
    "2-3 sentences on Nextflow"
   ]
  },
  {
   "cell_type": "markdown",
   "id": "8a897126-c835-4ca5-b3c3-3df7a1fd2605",
   "metadata": {},
   "source": [
    "lamin setup stuff"
   ]
  },
  {
   "cell_type": "markdown",
   "id": "9d2bc03c-3dcb-4e5e-b010-c99d0281165d",
   "metadata": {},
   "source": [
    "1. https://github.com/nf-core/fetchngs\n",
    "2. Track FASTQs\n",
    "3. https://github.com/nf-core/rnaseq/"
   ]
  },
  {
   "cell_type": "code",
   "execution_count": null,
   "id": "74cae211-7fc0-48e5-84d0-8283214d601d",
   "metadata": {},
   "outputs": [],
   "source": []
  },
  {
   "cell_type": "code",
   "execution_count": null,
   "id": "64d9a300-5ba5-40a7-88f2-b4503d0aeccd",
   "metadata": {},
   "outputs": [],
   "source": []
  },
  {
   "cell_type": "code",
   "execution_count": null,
   "id": "feb3df21-d9da-46e7-8f37-69d794e8138c",
   "metadata": {},
   "outputs": [],
   "source": []
  },
  {
   "cell_type": "code",
   "execution_count": null,
   "id": "b880efa6-423a-44d2-9444-da352177d356",
   "metadata": {},
   "outputs": [],
   "source": []
  },
  {
   "cell_type": "code",
   "execution_count": null,
   "id": "befdd088-5841-41a8-90f2-f2086fdd209b",
   "metadata": {},
   "outputs": [],
   "source": []
  },
  {
   "cell_type": "code",
   "execution_count": null,
   "id": "74471fea-4913-4350-8143-88cadc2986c5",
   "metadata": {},
   "outputs": [],
   "source": []
  },
  {
   "cell_type": "code",
   "execution_count": null,
   "id": "61572925-2e3e-432b-af3b-3f9fc9d36e26",
   "metadata": {},
   "outputs": [],
   "source": []
  },
  {
   "cell_type": "code",
   "execution_count": null,
   "id": "c0e9d13d-59c0-4a76-a856-0f606a527d82",
   "metadata": {},
   "outputs": [],
   "source": []
  },
  {
   "cell_type": "code",
   "execution_count": null,
   "id": "2118766a-36a0-49e3-b721-95b51408169b",
   "metadata": {},
   "outputs": [],
   "source": []
  },
  {
   "cell_type": "code",
   "execution_count": null,
   "id": "e5e0c3a5-e4c9-4350-b2dd-73b7dd1d1e31",
   "metadata": {},
   "outputs": [],
   "source": []
  }
 ],
 "metadata": {
  "kernelspec": {
   "display_name": "Python 3 (ipykernel)",
   "language": "python",
   "name": "python3"
  },
  "language_info": {
   "codemirror_mode": {
    "name": "ipython",
    "version": 3
   },
   "file_extension": ".py",
   "mimetype": "text/x-python",
   "name": "python",
   "nbconvert_exporter": "python",
   "pygments_lexer": "ipython3",
   "version": "3.10.12"
  }
 },
 "nbformat": 4,
 "nbformat_minor": 5
}
