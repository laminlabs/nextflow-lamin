{
 "cells": [
  {
   "cell_type": "markdown",
   "id": "a1c40541-e05e-48a3-8b50-33baf3d6d0d4",
   "metadata": {},
   "source": [
    "# Tracking Bulk RNA-seq Nextflow runs"
   ]
  },
  {
   "cell_type": "markdown",
   "id": "56db6387-dab7-4ee6-84d5-f4750fc43439",
   "metadata": {},
   "source": [
    "## Background"
   ]
  },
  {
   "cell_type": "markdown",
   "id": "cd12ac1a-73e6-44e2-a854-6fa5e52cfd41",
   "metadata": {},
   "source": [
    "[Nextflow](https://www.nextflow.io/) is a workflow management system used for orchestrating and executing scientific workflows across different computational environments. Fundamental features include ease of scalability, portability, and reproducibility, as it allows researchers to define complex workflows in a platform-agnostic manner and run them efficiently on various computing infrastructures.\n",
    "\n",
    "Here, we will demonstrate how to track Nextflow workflow execution and generated biological entities with [lamin](https://lamin.ai/)."
   ]
  },
  {
   "cell_type": "markdown",
   "id": "531093fd-67af-40fd-b481-fbf68828bcfd",
   "metadata": {},
   "source": [
    "## Setup"
   ]
  },
  {
   "cell_type": "markdown",
   "id": "f51e29c1",
   "metadata": {},
   "source": [
    "To run this notebook, you need to load a LaminDB instance that has the `bionty`` schema mounted.\n",
    "\n",
    "Here, we’ll create a test instance (skip if you’d like to run it using your instance):"
   ]
  },
  {
   "cell_type": "code",
   "execution_count": null,
   "id": "90b2b965",
   "metadata": {},
   "outputs": [],
   "source": [
    "!lamin init --storage ./bulk_rna_seq --schema bionty"
   ]
  },
  {
   "cell_type": "code",
   "execution_count": null,
   "id": "3358a50f",
   "metadata": {},
   "outputs": [],
   "source": [
    "import lamindb as ln\n",
    "import lnschema_bionty as lb\n",
    "import pandas as pd\n",
    "\n",
    "ln.settings.verbosity = 3  # show hints"
   ]
  },
  {
   "cell_type": "markdown",
   "id": "930b938a-497e-4713-89d7-08a02dc825d9",
   "metadata": {},
   "source": [
    "## Fetching and tracking NGS files"
   ]
  },
  {
   "cell_type": "markdown",
   "id": "c089ef95",
   "metadata": {},
   "source": [
    "First, we fetch "
   ]
  },
  {
   "cell_type": "code",
   "execution_count": null,
   "id": "f5d0fdad",
   "metadata": {},
   "outputs": [],
   "source": []
  },
  {
   "cell_type": "markdown",
   "id": "9d2bc03c-3dcb-4e5e-b010-c99d0281165d",
   "metadata": {},
   "source": [
    "1. https://github.com/nf-core/fetchngs\n",
    "2. Track FASTQs"
   ]
  },
  {
   "cell_type": "markdown",
   "id": "ecb68cf2-1188-4f8b-a2ab-01c60d5779b8",
   "metadata": {},
   "source": [
    "## Analysing raw FASTQ files and generating a count table"
   ]
  },
  {
   "cell_type": "markdown",
   "id": "5adc5bf2-bbd5-4e42-939a-188ddc472e4c",
   "metadata": {},
   "source": [
    "3. https://github.com/nf-core/rnaseq/ on the FASTQs\n",
    "4. Track all output files"
   ]
  },
  {
   "cell_type": "markdown",
   "id": "d88a75ac-49d2-483a-81cc-197eae78747d",
   "metadata": {},
   "source": [
    "## Downstream analysis of RNA counts"
   ]
  },
  {
   "cell_type": "markdown",
   "id": "6a46f691-bbdb-4b63-ad7d-a0a09388fb02",
   "metadata": {},
   "source": [
    "5. https://github.com/nf-core/differentialabundance on the count table\n",
    "6. Track all output files + use Bionty whereever we can"
   ]
  },
  {
   "cell_type": "code",
   "execution_count": null,
   "id": "befdd088-5841-41a8-90f2-f2086fdd209b",
   "metadata": {},
   "outputs": [],
   "source": []
  },
  {
   "cell_type": "code",
   "execution_count": null,
   "id": "74471fea-4913-4350-8143-88cadc2986c5",
   "metadata": {},
   "outputs": [],
   "source": []
  },
  {
   "cell_type": "code",
   "execution_count": null,
   "id": "61572925-2e3e-432b-af3b-3f9fc9d36e26",
   "metadata": {},
   "outputs": [],
   "source": []
  },
  {
   "cell_type": "code",
   "execution_count": null,
   "id": "c0e9d13d-59c0-4a76-a856-0f606a527d82",
   "metadata": {},
   "outputs": [],
   "source": []
  },
  {
   "cell_type": "markdown",
   "id": "58c6a407-1e87-4241-98e5-b069be057ea7",
   "metadata": {},
   "source": [
    "## Conclusion"
   ]
  },
  {
   "cell_type": "code",
   "execution_count": null,
   "id": "e5e0c3a5-e4c9-4350-b2dd-73b7dd1d1e31",
   "metadata": {},
   "outputs": [],
   "source": []
  }
 ],
 "metadata": {
  "kernelspec": {
   "display_name": "Python 3 (ipykernel)",
   "language": "python",
   "name": "python3"
  },
  "language_info": {
   "codemirror_mode": {
    "name": "ipython",
    "version": 3
   },
   "file_extension": ".py",
   "mimetype": "text/x-python",
   "name": "python",
   "nbconvert_exporter": "python",
   "pygments_lexer": "ipython3",
   "version": "3.10.12"
  }
 },
 "nbformat": 4,
 "nbformat_minor": 5
}
