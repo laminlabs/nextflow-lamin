{
 "cells": [
  {
   "cell_type": "markdown",
   "metadata": {},
   "source": [
    "# Test new nf run linking"
   ]
  },
  {
   "cell_type": "code",
   "execution_count": null,
   "metadata": {},
   "outputs": [],
   "source": [
    "!lamin load nextflow-mcmicro"
   ]
  },
  {
   "cell_type": "code",
   "execution_count": null,
   "metadata": {},
   "outputs": [],
   "source": [
    "import lamindb as ln\n",
    "from subprocess import getoutput"
   ]
  },
  {
   "cell_type": "code",
   "execution_count": null,
   "metadata": {},
   "outputs": [],
   "source": [
    "!nextflow run https://github.com/labsyspharm/mcmicro --in exemplar-001 --start-at illumination --stop-at registration -with-report execution_report.html"
   ]
  },
  {
   "cell_type": "code",
   "execution_count": null,
   "metadata": {},
   "outputs": [],
   "source": [
    "# !python register_mcmicro_run_link.py"
   ]
  },
  {
   "cell_type": "code",
   "execution_count": null,
   "metadata": {},
   "outputs": [],
   "source": [
    "transform = ln.Transform(\n",
    "    name=\"mcmicro\",\n",
    "    version=\"1.0.0\",\n",
    "    type=\"pipeline\",\n",
    "    reference=\"https://github.com/labsyspharm/mcmicro\",\n",
    ")\n",
    "run = ln.track(transform=transform)\n",
    "\n",
    "ln.settings.sync_git_repo = \"https://github.com/laminlabs/nextflow-lamin-usecases\""
   ]
  },
  {
   "cell_type": "code",
   "execution_count": null,
   "metadata": {},
   "outputs": [],
   "source": [
    "ulabel = ln.ULabel(name=\"nextflow\").save()\n",
    "transform.ulabels.add(ulabel)"
   ]
  },
  {
   "cell_type": "code",
   "execution_count": null,
   "metadata": {},
   "outputs": [],
   "source": [
    "import yaml\n",
    "from lamindb.core._run_context import parse_and_link_params\n",
    "\n",
    "with open(\"exemplar-001/qc/params.yml\") as params_file:\n",
    "    params = yaml.safe_load(params_file)\n",
    "\n",
    "parse_and_link_params(run, {k: v for k, v in params.items() if v is not None})"
   ]
  },
  {
   "cell_type": "code",
   "execution_count": null,
   "metadata": {},
   "outputs": [],
   "source": [
    "run.param_values.all()"
   ]
  },
  {
   "cell_type": "code",
   "execution_count": null,
   "metadata": {},
   "outputs": [],
   "source": [
    "mcmicro_input = ln.Artifact.filter(key__startswith=\"exemplar-001\")\n",
    "run.input_artifacts.set(mcmicro_input)"
   ]
  },
  {
   "cell_type": "code",
   "execution_count": null,
   "metadata": {},
   "outputs": [],
   "source": [
    "output = ln.Artifact(\n",
    "    \"exemplar-001/registration/exemplar-001.ome.tif\", description=\"mcmicro\"\n",
    ")\n",
    "output.save()\n",
    "run.output_artifacts.set([output])"
   ]
  },
  {
   "cell_type": "code",
   "execution_count": null,
   "metadata": {},
   "outputs": [],
   "source": [
    "report = ln.Artifact(\"execution_report.html\").save()\n",
    "run.report = report\n",
    "run.save()"
   ]
  },
  {
   "cell_type": "code",
   "execution_count": null,
   "metadata": {},
   "outputs": [],
   "source": [
    "nextflow_id = getoutput(f\"nextflow log | awk '/{run.id}/{{print $8}}'\")\n",
    "run.reference = nextflow_id\n",
    "run.reference_type = \"nextflow_id\"\n",
    "run.save()"
   ]
  },
  {
   "cell_type": "code",
   "execution_count": null,
   "metadata": {},
   "outputs": [],
   "source": [
    "run.transform"
   ]
  },
  {
   "cell_type": "code",
   "execution_count": null,
   "metadata": {},
   "outputs": [],
   "source": [
    "%tb\n",
    "ln.finish()"
   ]
  },
  {
   "cell_type": "code",
   "execution_count": null,
   "metadata": {},
   "outputs": [],
   "source": []
  }
 ],
 "metadata": {
  "kernelspec": {
   "display_name": "lamindb",
   "language": "python",
   "name": "python3"
  },
  "language_info": {
   "codemirror_mode": {
    "name": "ipython",
    "version": 3
   },
   "file_extension": ".py",
   "mimetype": "text/x-python",
   "name": "python",
   "nbconvert_exporter": "python",
   "pygments_lexer": "ipython3",
   "version": "3.11.7"
  }
 },
 "nbformat": 4,
 "nbformat_minor": 2
}
